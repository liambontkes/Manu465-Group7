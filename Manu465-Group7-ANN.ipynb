{
 "cells": [
  {
   "cell_type": "markdown",
   "metadata": {},
   "source": [
    "# Fashion MNIST"
   ]
  },
  {
   "cell_type": "markdown",
   "metadata": {},
   "source": [
    "## Importing the Libraries "
   ]
  },
  {
   "cell_type": "code",
   "execution_count": 1,
   "metadata": {},
   "outputs": [],
   "source": [
    "import tensorflow as tf\n",
    "from tensorflow import keras\n",
    "from keras.preprocessing.image import ImageDataGenerator\n",
    "import numpy as np"
   ]
  },
  {
   "cell_type": "markdown",
   "metadata": {},
   "source": [
    "## Importing the Data"
   ]
  },
  {
   "cell_type": "code",
   "execution_count": 2,
   "metadata": {},
   "outputs": [
    {
     "name": "stdout",
     "output_type": "stream",
     "text": [
      "Found 54 images belonging to 2 classes.\n",
      "Found 15 images belonging to 2 classes.\n"
     ]
    }
   ],
   "source": [
    "datagen = ImageDataGenerator(rescale = 1./255,\n",
    "                                   shear_range = 0.2,\n",
    "                                   zoom_range = 0.2,\n",
    "                                   horizontal_flip = True)\n",
    "\n",
    "training_set = datagen.flow_from_directory('Dataset/Training_Set',\n",
    "                                                 target_size = (64, 64),\n",
    "                                                 batch_size = 32,\n",
    "                                                 class_mode = 'binary')\n",
    "test_set = datagen.flow_from_directory('Dataset/Test_Set',\n",
    "                                            target_size = (64, 64),\n",
    "                                            batch_size = 32,\n",
    "                                            class_mode = 'binary')"
   ]
  },
  {
   "cell_type": "markdown",
   "metadata": {},
   "source": [
    "## Building the ANN Model"
   ]
  },
  {
   "cell_type": "code",
   "execution_count": 3,
   "metadata": {},
   "outputs": [],
   "source": [
    "model=keras.models.Sequential()\n",
    "model.add(keras.layers.Flatten())\n",
    "model.add(keras.layers.Dense(300,activation='relu'))\n",
    "model.add(keras.layers.Dense(100,activation='relu'))\n",
    "model.add(keras.layers.Dense(10,activation='softmax'))"
   ]
  },
  {
   "cell_type": "markdown",
   "metadata": {},
   "source": [
    "## Compiling the ANN Model"
   ]
  },
  {
   "cell_type": "code",
   "execution_count": 4,
   "metadata": {},
   "outputs": [],
   "source": [
    "model.compile(loss='sparse_categorical_crossentropy',optimizer='sgd',metrics=['accuracy'])"
   ]
  },
  {
   "cell_type": "markdown",
   "metadata": {},
   "source": [
    "## Training the ANN"
   ]
  },
  {
   "cell_type": "code",
   "execution_count": 5,
   "metadata": {},
   "outputs": [
    {
     "name": "stdout",
     "output_type": "stream",
     "text": [
      "Epoch 1/25\n",
      "2/2 [==============================] - 8s 5s/step - loss: 1.3549 - accuracy: 0.5370 - val_loss: 0.5171 - val_accuracy: 0.8000\n",
      "Epoch 2/25\n",
      "2/2 [==============================] - 8s 4s/step - loss: 0.3707 - accuracy: 0.8519 - val_loss: 0.6072 - val_accuracy: 0.8000\n",
      "Epoch 3/25\n",
      "2/2 [==============================] - 5s 2s/step - loss: 0.3536 - accuracy: 0.8704 - val_loss: 0.5161 - val_accuracy: 0.8000\n",
      "Epoch 4/25\n",
      "2/2 [==============================] - 8s 7s/step - loss: 0.2928 - accuracy: 0.8519 - val_loss: 0.4560 - val_accuracy: 0.8000\n",
      "Epoch 5/25\n",
      "2/2 [==============================] - 5s 3s/step - loss: 0.4015 - accuracy: 0.8333 - val_loss: 0.6659 - val_accuracy: 0.8000\n",
      "Epoch 6/25\n",
      "2/2 [==============================] - 9s 6s/step - loss: 0.4603 - accuracy: 0.8519 - val_loss: 0.5190 - val_accuracy: 0.9333\n",
      "Epoch 7/25\n",
      "2/2 [==============================] - 4s 3s/step - loss: 0.2678 - accuracy: 0.8519 - val_loss: 0.7600 - val_accuracy: 0.4000\n",
      "Epoch 8/25\n",
      "2/2 [==============================] - 5s 2s/step - loss: 0.2461 - accuracy: 0.8889 - val_loss: 0.4117 - val_accuracy: 0.8000\n",
      "Epoch 9/25\n",
      "2/2 [==============================] - 4s 3s/step - loss: 0.2455 - accuracy: 0.8704 - val_loss: 0.3975 - val_accuracy: 1.0000\n",
      "Epoch 10/25\n",
      "2/2 [==============================] - 4s 3s/step - loss: 0.2264 - accuracy: 0.8704 - val_loss: 0.5587 - val_accuracy: 0.8000\n",
      "Epoch 11/25\n",
      "2/2 [==============================] - 5s 3s/step - loss: 0.2826 - accuracy: 0.8704 - val_loss: 0.8199 - val_accuracy: 0.2667\n",
      "Epoch 12/25\n",
      "2/2 [==============================] - 5s 2s/step - loss: 0.2531 - accuracy: 0.8519 - val_loss: 0.4488 - val_accuracy: 0.9333\n",
      "Epoch 13/25\n",
      "2/2 [==============================] - 5s 4s/step - loss: 0.3045 - accuracy: 0.7963 - val_loss: 0.4547 - val_accuracy: 0.8000\n",
      "Epoch 14/25\n",
      "2/2 [==============================] - 5s 3s/step - loss: 0.4042 - accuracy: 0.8148 - val_loss: 0.3915 - val_accuracy: 0.8000\n",
      "Epoch 15/25\n",
      "2/2 [==============================] - 5s 3s/step - loss: 0.2324 - accuracy: 0.9259 - val_loss: 0.4791 - val_accuracy: 0.8667\n",
      "Epoch 16/25\n",
      "2/2 [==============================] - 5s 4s/step - loss: 0.2049 - accuracy: 0.8889 - val_loss: 0.3865 - val_accuracy: 1.0000\n",
      "Epoch 17/25\n",
      "2/2 [==============================] - 5s 3s/step - loss: 0.2072 - accuracy: 0.9259 - val_loss: 0.3131 - val_accuracy: 0.9333\n",
      "Epoch 18/25\n",
      "2/2 [==============================] - 5s 3s/step - loss: 0.2166 - accuracy: 0.8704 - val_loss: 0.5688 - val_accuracy: 0.8000\n",
      "Epoch 19/25\n",
      "2/2 [==============================] - 5s 3s/step - loss: 0.1932 - accuracy: 0.9259 - val_loss: 0.2665 - val_accuracy: 0.8667\n",
      "Epoch 20/25\n",
      "2/2 [==============================] - 5s 3s/step - loss: 0.2412 - accuracy: 0.8333 - val_loss: 0.3146 - val_accuracy: 0.8000\n",
      "Epoch 21/25\n",
      "2/2 [==============================] - 5s 3s/step - loss: 0.2114 - accuracy: 0.9074 - val_loss: 0.4608 - val_accuracy: 0.9333\n",
      "Epoch 22/25\n",
      "2/2 [==============================] - 5s 4s/step - loss: 0.1914 - accuracy: 0.9074 - val_loss: 0.4802 - val_accuracy: 0.8000\n",
      "Epoch 23/25\n",
      "2/2 [==============================] - 5s 4s/step - loss: 0.1689 - accuracy: 0.9815 - val_loss: 0.3084 - val_accuracy: 0.9333\n",
      "Epoch 24/25\n",
      "2/2 [==============================] - 5s 3s/step - loss: 0.1800 - accuracy: 0.9259 - val_loss: 0.4422 - val_accuracy: 0.9333\n",
      "Epoch 25/25\n",
      "2/2 [==============================] - 5s 4s/step - loss: 0.1443 - accuracy: 0.9630 - val_loss: 0.2932 - val_accuracy: 1.0000\n"
     ]
    }
   ],
   "source": [
    "history=model.fit(x = training_set, validation_data = test_set, epochs = 25)"
   ]
  },
  {
   "cell_type": "markdown",
   "metadata": {},
   "source": [
    "## Plotting the Accuracy and Loss"
   ]
  },
  {
   "cell_type": "code",
   "execution_count": 6,
   "metadata": {},
   "outputs": [
    {
     "data": {
      "text/plain": [
       "<function matplotlib.pyplot.show(close=None, block=None)>"
      ]
     },
     "execution_count": 6,
     "metadata": {},
     "output_type": "execute_result"
    },
    {
     "data": {
      "image/png": "[encoded data removed]",
      "text/plain": [
       "<Figure size 576x360 with 1 Axes>"
      ]
     },
     "metadata": {
      "needs_background": "light"
     },
     "output_type": "display_data"
    }
   ],
   "source": [
    "import pandas as pd\n",
    "import matplotlib.pyplot as plt\n",
    "\n",
    "Performance=pd.DataFrame(history.history)\n",
    "\n",
    "Performance.plot(figsize=(8,5))\n",
    "plt.grid(True)\n",
    "plt.gca().set_ylim(0,1)\n",
    "plt.show"
   ]
  },
  {
   "cell_type": "markdown",
   "metadata": {},
   "source": [
    "## Use the Model to Predict"
   ]
  },
  {
   "cell_type": "code",
   "execution_count": 7,
   "metadata": {},
   "outputs": [
    {
     "name": "stdout",
     "output_type": "stream",
     "text": [
      "Part is defective!\n"
     ]
    }
   ],
   "source": [
    "from keras.preprocessing import image\n",
    "\n",
    "prediction_image = image.load_img('Dataset/Single_Prediction/Print_1.jpg', target_size=(64, 64))\n",
    "prediction_image = image.img_to_array(prediction_image)\n",
    "prediction_image = np.expand_dims(prediction_image, axis=0)\n",
    "\n",
    "result = model.predict(prediction_image)\n",
    "\n",
    "if result[0][0] == 0:\n",
    "    prediction = 'Part is OK.'\n",
    "else:\n",
    "    prediction = 'Part is defective!'\n",
    "print(prediction)"
   ]
  },
  {
   "cell_type": "code",
   "execution_count": 8,
   "metadata": {},
   "outputs": [
    {
     "name": "stdout",
     "output_type": "stream",
     "text": [
      "Part is OK.\n"
     ]
    }
   ],
   "source": [
    "from keras.preprocessing import image\n",
    "\n",
    "prediction_image = image.load_img('Dataset/Single_Prediction2/Print_1.jpg', target_size=(64, 64))\n",
    "prediction_image = image.img_to_array(prediction_image)\n",
    "prediction_image = np.expand_dims(prediction_image, axis=0)\n",
    "\n",
    "result = model.predict(prediction_image)\n",
    "\n",
    "if result[0][0] == 0:\n",
    "    prediction = 'Part is OK.'\n",
    "else:\n",
    "    prediction = 'Part is defective!'\n",
    "print(prediction)"
   ]
  },
  {
   "cell_type": "code",
   "execution_count": 9,
   "metadata": {},
   "outputs": [
    {
     "name": "stdout",
     "output_type": "stream",
     "text": [
      "Part is OK.\n"
     ]
    }
   ],
   "source": [
    "from keras.preprocessing import image\n",
    "\n",
    "prediction_image = image.load_img('Dataset/Single_Prediction3/Print_1.jpg', target_size=(64, 64))\n",
    "prediction_image = image.img_to_array(prediction_image)\n",
    "prediction_image = np.expand_dims(prediction_image, axis=0)\n",
    "\n",
    "result = model.predict(prediction_image)\n",
    "\n",
    "if result[0][0] == 0:\n",
    "    prediction = 'Part is OK.'\n",
    "else:\n",
    "    prediction = 'Part is defective!'\n",
    "print(prediction)"
   ]
  },
  {
   "cell_type": "code",
   "execution_count": null,
   "metadata": {},
   "outputs": [],
   "source": []
  },
  {
   "cell_type": "code",
   "execution_count": null,
   "metadata": {},
   "outputs": [],
   "source": []
  }
 ],
 "metadata": {
  "kernelspec": {
   "display_name": "Python 3",
   "language": "python",
   "name": "python3"
  },
  "language_info": {
   "codemirror_mode": {
    "name": "ipython",
    "version": 3
   },
   "file_extension": ".py",
   "mimetype": "text/x-python",
   "name": "python",
   "nbconvert_exporter": "python",
   "pygments_lexer": "ipython3",
   "version": "3.8.8"
  },
  "toc": {
   "base_numbering": 1,
   "nav_menu": {},
   "number_sections": true,
   "sideBar": true,
   "skip_h1_title": false,
   "title_cell": "Table of Contents",
   "title_sidebar": "Contents",
   "toc_cell": false,
   "toc_position": {
    "height": "calc(100% - 180px)",
    "left": "10px",
    "top": "150px",
    "width": "165px"
   },
   "toc_section_display": true,
   "toc_window_display": true
  },
  "varInspector": {
   "cols": {
    "lenName": 16,
    "lenType": 16,
    "lenVar": 40
   },
   "kernels_config": {
    "python": {
     "delete_cmd_postfix": "",
     "delete_cmd_prefix": "del ",
     "library": "var_list.py",
     "varRefreshCmd": "print(var_dic_list())"
    },
    "r": {
     "delete_cmd_postfix": ") ",
     "delete_cmd_prefix": "rm(",
     "library": "var_list.r",
     "varRefreshCmd": "cat(var_dic_list()) "
    }
   },
   "types_to_exclude": [
    "module",
    "function",
    "builtin_function_or_method",
    "instance",
    "_Feature"
   ],
   "window_display": false
  }
 },
 "nbformat": 4,
 "nbformat_minor": 4
}
