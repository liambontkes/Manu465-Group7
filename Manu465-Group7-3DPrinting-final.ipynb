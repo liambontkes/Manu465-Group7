{
 "cells": [
  {
   "cell_type": "markdown",
   "metadata": {
    "collapsed": true,
    "pycharm": {
     "name": "#%% md\n"
    }
   },
   "source": [
    "# MANU 465 Project: 3D Printing"
   ]
  },
  {
   "cell_type": "markdown",
   "metadata": {
    "pycharm": {
     "name": "#%% md\n"
    }
   },
   "source": [
    "### Authors:\n",
    "\n",
    "_Group 7_\n",
    "\n",
    "Liam Bontkes\n",
    "\n",
    "Stacy Shang\n",
    "\n",
    "Théophile Calloc'h\n",
    "\n",
    "Tony Lyu"
   ]
  },
  {
   "cell_type": "markdown",
   "metadata": {
    "pycharm": {
     "name": "#%% md\n"
    }
   },
   "source": [
    "# 1- Project Description\n",
    "\n",
    "The goal of this project is to create a machine learning model which is capable of identifying defective print layers\n",
    "and classifying 3D print layers as Pass/Fail with 85% or greater accuracy. The machine learning model will use a series\n",
    "of images of print layers (defective and non-defective), interpreted with a machine vision model. To reduce the scope\n",
    "of the project, we will only train the model on simple geometric shapes such as cubes, spheres and pyramids.\n",
    "Additionally, we will only be training the model on 3D prints from a fused filament fabrication printer using\n",
    "polylactic acid filament and a 4mm extruder head."
   ]
  },
  {
   "cell_type": "markdown",
   "metadata": {
    "pycharm": {
     "name": "#%% md\n"
    }
   },
   "source": [
    "# 2- Libraries"
   ]
  },
  {
   "cell_type": "code",
   "execution_count": 23,
   "metadata": {
    "pycharm": {
     "name": "#%%\n"
    }
   },
   "outputs": [],
   "source": [
    "import tensorflow as tf\n",
    "import matplotlib.pyplot as plt\n",
    "import numpy as np\n",
    "import pandas as pd\n",
    "from tensorflow import keras\n",
    "import os\n",
    "from skimage.transform import resize\n",
    "from skimage.io import imread\n",
    "from sklearn import svm\n",
    "from sklearn.model_selection import GridSearchCV\n",
    "from sklearn.model_selection import train_test_split\n",
    "from sklearn.metrics import accuracy_score"
   ]
  },
  {
   "cell_type": "markdown",
   "metadata": {
    "pycharm": {
     "name": "#%% md\n"
    }
   },
   "source": [
    "# 3- Data Preprocessing\n",
    "\n",
    "Preprocess the training and test set."
   ]
  },
  {
   "cell_type": "code",
   "execution_count": 2,
   "metadata": {
    "pycharm": {
     "name": "#%%\n"
    }
   },
   "outputs": [
    {
     "name": "stdout",
     "output_type": "stream",
     "text": [
      "Found 147 images belonging to 2 classes.\n",
      "Found 37 images belonging to 2 classes.\n"
     ]
    }
   ],
   "source": [
    "from keras.preprocessing.image import ImageDataGenerator\n",
    "\n",
    "image_data_generator = ImageDataGenerator(rescale=1. / 255,\n",
    "                                          shear_range=0.2,\n",
    "                                          zoom_range=0.2,\n",
    "                                          horizontal_flip=True)\n",
    "\n",
    "training_set = image_data_generator.flow_from_directory('Dataset/training_set',\n",
    "                                                        target_size=(64, 64),\n",
    "                                                        batch_size=32,\n",
    "                                                        class_mode='binary')\n",
    "\n",
    "test_set = image_data_generator.flow_from_directory('Dataset/test_set',\n",
    "                                                    target_size=(64, 64),\n",
    "                                                    batch_size=32,\n",
    "                                                    class_mode='binary')"
   ]
  },
  {
   "cell_type": "markdown",
   "metadata": {
    "pycharm": {
     "name": "#%% md\n"
    }
   },
   "source": [
    "# 4- CNN Model"
   ]
  },
  {
   "cell_type": "markdown",
   "metadata": {},
   "source": [
    "## 4.1 Build the CNN Model "
   ]
  },
  {
   "cell_type": "markdown",
   "metadata": {
    "pycharm": {
     "name": "#%% md\n"
    }
   },
   "source": [
    "### 4.1.1 Initialize the Model"
   ]
  },
  {
   "cell_type": "code",
   "execution_count": 3,
   "metadata": {
    "pycharm": {
     "name": "#%%\n"
    }
   },
   "outputs": [],
   "source": [
    "modelCNN = tf.keras.models.Sequential()"
   ]
  },
  {
   "cell_type": "markdown",
   "metadata": {
    "pycharm": {
     "name": "#%% md\n"
    }
   },
   "source": [
    "### 4.1.2 Add Convolutional Layers"
   ]
  },
  {
   "cell_type": "code",
   "execution_count": 4,
   "metadata": {
    "pycharm": {
     "name": "#%%\n"
    }
   },
   "outputs": [],
   "source": [
    "# add and pool 1st layer\n",
    "modelCNN.add(tf.keras.layers.Conv2D(filters=32, kernel_size=3, activation='relu', input_shape=[64, 64, 3]))\n",
    "modelCNN.add(tf.keras.layers.MaxPool2D(pool_size=2, strides=1))"
   ]
  },
  {
   "cell_type": "code",
   "execution_count": 5,
   "metadata": {
    "pycharm": {
     "name": "#%%\n"
    }
   },
   "outputs": [],
   "source": [
    "# add and pool 2nd layer\n",
    "modelCNN.add(tf.keras.layers.Conv2D(filters=32, kernel_size=3, activation='relu'))\n",
    "modelCNN.add(tf.keras.layers.MaxPool2D(pool_size=2, strides=1))"
   ]
  },
  {
   "cell_type": "markdown",
   "metadata": {},
   "source": [
    "### 4.1.3 Flatten the Model"
   ]
  },
  {
   "cell_type": "code",
   "execution_count": 6,
   "metadata": {
    "pycharm": {
     "name": "#%%\n"
    }
   },
   "outputs": [],
   "source": [
    "modelCNN.add(tf.keras.layers.Flatten())"
   ]
  },
  {
   "cell_type": "markdown",
   "metadata": {},
   "source": [
    "### 4.1.4 Add Connection Layer"
   ]
  },
  {
   "cell_type": "code",
   "execution_count": 7,
   "metadata": {
    "pycharm": {
     "name": "#%%\n"
    }
   },
   "outputs": [],
   "source": [
    "modelCNN.add(tf.keras.layers.Dense(units=256, activation='relu'))"
   ]
  },
  {
   "cell_type": "markdown",
   "metadata": {},
   "source": [
    "### 4.1.5 Add Output Layer"
   ]
  },
  {
   "cell_type": "code",
   "execution_count": 8,
   "metadata": {
    "pycharm": {
     "name": "#%%\n"
    }
   },
   "outputs": [],
   "source": [
    "modelCNN.add(tf.keras.layers.Dense(units=1, activation='sigmoid'))"
   ]
  },
  {
   "cell_type": "markdown",
   "metadata": {},
   "source": [
    "### 4.1.6 Compile the Model"
   ]
  },
  {
   "cell_type": "code",
   "execution_count": 9,
   "metadata": {
    "pycharm": {
     "name": "#%%\n"
    }
   },
   "outputs": [],
   "source": [
    "modelCNN.compile(optimizer='adam', loss='binary_crossentropy', metrics=['accuracy'])"
   ]
  },
  {
   "cell_type": "markdown",
   "metadata": {},
   "source": [
    "## 4.2 Train the CNN Model"
   ]
  },
  {
   "cell_type": "code",
   "execution_count": 10,
   "metadata": {
    "pycharm": {
     "name": "#%%\n"
    }
   },
   "outputs": [
    {
     "name": "stdout",
     "output_type": "stream",
     "text": [
      "Epoch 1/50\n",
      "5/5 [==============================] - 2s 449ms/step - loss: 2.3718 - accuracy: 0.5442 - val_loss: 0.6036 - val_accuracy: 0.6757\n",
      "Epoch 2/50\n",
      "5/5 [==============================] - 2s 344ms/step - loss: 0.5927 - accuracy: 0.6599 - val_loss: 0.6176 - val_accuracy: 0.5676\n",
      "Epoch 3/50\n",
      "5/5 [==============================] - 2s 346ms/step - loss: 0.5056 - accuracy: 0.7823 - val_loss: 0.4276 - val_accuracy: 0.9459\n",
      "Epoch 4/50\n",
      "5/5 [==============================] - 2s 338ms/step - loss: 0.4738 - accuracy: 0.7891 - val_loss: 0.4630 - val_accuracy: 0.7838\n",
      "Epoch 5/50\n",
      "5/5 [==============================] - 2s 341ms/step - loss: 0.4113 - accuracy: 0.8367 - val_loss: 0.4775 - val_accuracy: 0.8378\n",
      "Epoch 6/50\n",
      "5/5 [==============================] - 2s 338ms/step - loss: 0.3571 - accuracy: 0.8435 - val_loss: 0.4781 - val_accuracy: 0.8108\n",
      "Epoch 7/50\n",
      "5/5 [==============================] - 2s 346ms/step - loss: 0.3342 - accuracy: 0.8639 - val_loss: 0.4075 - val_accuracy: 0.8649\n",
      "Epoch 8/50\n",
      "5/5 [==============================] - 2s 343ms/step - loss: 0.3333 - accuracy: 0.8435 - val_loss: 0.5567 - val_accuracy: 0.7027\n",
      "Epoch 9/50\n",
      "5/5 [==============================] - 2s 360ms/step - loss: 0.3023 - accuracy: 0.8503 - val_loss: 0.6011 - val_accuracy: 0.6216\n",
      "Epoch 10/50\n",
      "5/5 [==============================] - 2s 393ms/step - loss: 0.2842 - accuracy: 0.8571 - val_loss: 0.4934 - val_accuracy: 0.7297\n",
      "Epoch 11/50\n",
      "5/5 [==============================] - 2s 379ms/step - loss: 0.2133 - accuracy: 0.9252 - val_loss: 0.4609 - val_accuracy: 0.7027\n",
      "Epoch 12/50\n",
      "5/5 [==============================] - 2s 370ms/step - loss: 0.2391 - accuracy: 0.8776 - val_loss: 0.5452 - val_accuracy: 0.7568\n",
      "Epoch 13/50\n",
      "5/5 [==============================] - 2s 376ms/step - loss: 0.2218 - accuracy: 0.8844 - val_loss: 0.7228 - val_accuracy: 0.7297\n",
      "Epoch 14/50\n",
      "5/5 [==============================] - 2s 411ms/step - loss: 0.2039 - accuracy: 0.8980 - val_loss: 0.8352 - val_accuracy: 0.8378\n",
      "Epoch 15/50\n",
      "5/5 [==============================] - 2s 404ms/step - loss: 0.2917 - accuracy: 0.8639 - val_loss: 0.6563 - val_accuracy: 0.7297\n",
      "Epoch 16/50\n",
      "5/5 [==============================] - 2s 370ms/step - loss: 0.2948 - accuracy: 0.8435 - val_loss: 0.8300 - val_accuracy: 0.7027\n",
      "Epoch 17/50\n",
      "5/5 [==============================] - 2s 370ms/step - loss: 0.2169 - accuracy: 0.9048 - val_loss: 0.9084 - val_accuracy: 0.6216\n",
      "Epoch 18/50\n",
      "5/5 [==============================] - 2s 379ms/step - loss: 0.2369 - accuracy: 0.8844 - val_loss: 0.7487 - val_accuracy: 0.7027\n",
      "Epoch 19/50\n",
      "5/5 [==============================] - 2s 408ms/step - loss: 0.2069 - accuracy: 0.9320 - val_loss: 0.8841 - val_accuracy: 0.5676\n",
      "Epoch 20/50\n",
      "5/5 [==============================] - 2s 383ms/step - loss: 0.2041 - accuracy: 0.9184 - val_loss: 0.8172 - val_accuracy: 0.8378\n",
      "Epoch 21/50\n",
      "5/5 [==============================] - 2s 380ms/step - loss: 0.2001 - accuracy: 0.8980 - val_loss: 0.9385 - val_accuracy: 0.7297\n",
      "Epoch 22/50\n",
      "5/5 [==============================] - 2s 377ms/step - loss: 0.1607 - accuracy: 0.9320 - val_loss: 0.9789 - val_accuracy: 0.6757\n",
      "Epoch 23/50\n",
      "5/5 [==============================] - 2s 394ms/step - loss: 0.1551 - accuracy: 0.9252 - val_loss: 0.9453 - val_accuracy: 0.8108\n",
      "Epoch 24/50\n",
      "5/5 [==============================] - 2s 375ms/step - loss: 0.1562 - accuracy: 0.9456 - val_loss: 0.9597 - val_accuracy: 0.8108\n",
      "Epoch 25/50\n",
      "5/5 [==============================] - 2s 371ms/step - loss: 0.1367 - accuracy: 0.9592 - val_loss: 0.9755 - val_accuracy: 0.8378\n",
      "Epoch 26/50\n",
      "5/5 [==============================] - 2s 377ms/step - loss: 0.1537 - accuracy: 0.9660 - val_loss: 0.5445 - val_accuracy: 0.7838\n",
      "Epoch 27/50\n",
      "5/5 [==============================] - 2s 374ms/step - loss: 0.1320 - accuracy: 0.9524 - val_loss: 1.5749 - val_accuracy: 0.5135\n",
      "Epoch 28/50\n",
      "5/5 [==============================] - 2s 384ms/step - loss: 0.2462 - accuracy: 0.8912 - val_loss: 0.6428 - val_accuracy: 0.8108\n",
      "Epoch 29/50\n",
      "5/5 [==============================] - 2s 393ms/step - loss: 0.1362 - accuracy: 0.9456 - val_loss: 0.9652 - val_accuracy: 0.7027\n",
      "Epoch 30/50\n",
      "5/5 [==============================] - 2s 400ms/step - loss: 0.1502 - accuracy: 0.9456 - val_loss: 0.6021 - val_accuracy: 0.8108\n",
      "Epoch 31/50\n",
      "5/5 [==============================] - 2s 384ms/step - loss: 0.1296 - accuracy: 0.9524 - val_loss: 0.9358 - val_accuracy: 0.7838\n",
      "Epoch 32/50\n",
      "5/5 [==============================] - 2s 359ms/step - loss: 0.1187 - accuracy: 0.9524 - val_loss: 1.5035 - val_accuracy: 0.8378\n",
      "Epoch 33/50\n",
      "5/5 [==============================] - 2s 374ms/step - loss: 0.1158 - accuracy: 0.9456 - val_loss: 0.7105 - val_accuracy: 0.7568\n",
      "Epoch 34/50\n",
      "5/5 [==============================] - 2s 384ms/step - loss: 0.1333 - accuracy: 0.9592 - val_loss: 1.1402 - val_accuracy: 0.8108\n",
      "Epoch 35/50\n",
      "5/5 [==============================] - 2s 394ms/step - loss: 0.1389 - accuracy: 0.9524 - val_loss: 1.4620 - val_accuracy: 0.8378\n",
      "Epoch 36/50\n",
      "5/5 [==============================] - 2s 371ms/step - loss: 0.1084 - accuracy: 0.9796 - val_loss: 1.6271 - val_accuracy: 0.8649\n",
      "Epoch 37/50\n",
      "5/5 [==============================] - 2s 370ms/step - loss: 0.1303 - accuracy: 0.9524 - val_loss: 1.0899 - val_accuracy: 0.8108\n",
      "Epoch 38/50\n",
      "5/5 [==============================] - 2s 371ms/step - loss: 0.1339 - accuracy: 0.9660 - val_loss: 0.8528 - val_accuracy: 0.8378\n",
      "Epoch 39/50\n",
      "5/5 [==============================] - 2s 365ms/step - loss: 0.1250 - accuracy: 0.9592 - val_loss: 1.6395 - val_accuracy: 0.8649\n",
      "Epoch 40/50\n",
      "5/5 [==============================] - 2s 395ms/step - loss: 0.1413 - accuracy: 0.9388 - val_loss: 1.3201 - val_accuracy: 0.7297\n",
      "Epoch 41/50\n",
      "5/5 [==============================] - 2s 397ms/step - loss: 0.1243 - accuracy: 0.9524 - val_loss: 1.1264 - val_accuracy: 0.8649\n",
      "Epoch 42/50\n",
      "5/5 [==============================] - 2s 368ms/step - loss: 0.0726 - accuracy: 0.9864 - val_loss: 1.5582 - val_accuracy: 0.7838\n",
      "Epoch 43/50\n",
      "5/5 [==============================] - 2s 374ms/step - loss: 0.0871 - accuracy: 0.9660 - val_loss: 1.1673 - val_accuracy: 0.7297\n",
      "Epoch 44/50\n",
      "5/5 [==============================] - 2s 367ms/step - loss: 0.1273 - accuracy: 0.9660 - val_loss: 1.2443 - val_accuracy: 0.7027\n",
      "Epoch 45/50\n",
      "5/5 [==============================] - 2s 411ms/step - loss: 0.1202 - accuracy: 0.9592 - val_loss: 1.2601 - val_accuracy: 0.8378\n",
      "Epoch 46/50\n",
      "5/5 [==============================] - 2s 372ms/step - loss: 0.0898 - accuracy: 0.9660 - val_loss: 1.3446 - val_accuracy: 0.7297\n",
      "Epoch 47/50\n",
      "5/5 [==============================] - 2s 373ms/step - loss: 0.1249 - accuracy: 0.9456 - val_loss: 1.4966 - val_accuracy: 0.7297\n",
      "Epoch 48/50\n",
      "5/5 [==============================] - 2s 374ms/step - loss: 0.1168 - accuracy: 0.9592 - val_loss: 1.8967 - val_accuracy: 0.8378\n",
      "Epoch 49/50\n",
      "5/5 [==============================] - 2s 401ms/step - loss: 0.1166 - accuracy: 0.9524 - val_loss: 1.1996 - val_accuracy: 0.7297\n",
      "Epoch 50/50\n",
      "5/5 [==============================] - 2s 371ms/step - loss: 0.1008 - accuracy: 0.9660 - val_loss: 1.4301 - val_accuracy: 0.8108\n"
     ]
    }
   ],
   "source": [
    "historyCNN=modelCNN.fit(x=training_set, validation_data=test_set, epochs=50)"
   ]
  },
  {
   "cell_type": "markdown",
   "metadata": {},
   "source": [
    "## 4.3 Plot the Accuracy and Loss "
   ]
  },
  {
   "cell_type": "code",
   "execution_count": 11,
   "metadata": {},
   "outputs": [
    {
     "data": {
      "text/plain": [
       "<function matplotlib.pyplot.show(close=None, block=None)>"
      ]
     },
     "execution_count": 11,
     "metadata": {},
     "output_type": "execute_result"
    },
    {
     "data": {
      "image/png": "[encoded data removed]",
      "text/plain": [
       "<Figure size 576x360 with 1 Axes>"
      ]
     },
     "metadata": {
      "needs_background": "light"
     },
     "output_type": "display_data"
    }
   ],
   "source": [
    "Performance=pd.DataFrame(historyCNN.history)\n",
    "\n",
    "Performance.plot(figsize=(8,5))\n",
    "plt.grid(True)\n",
    "plt.gca().set_ylim(0,1)\n",
    "plt.show"
   ]
  },
  {
   "cell_type": "markdown",
   "metadata": {
    "pycharm": {
     "name": "#%% md\n"
    }
   },
   "source": [
    "## 4.4 Make a Prediction"
   ]
  },
  {
   "cell_type": "code",
   "execution_count": 12,
   "metadata": {
    "pycharm": {
     "name": "#%%\n"
    }
   },
   "outputs": [
    {
     "name": "stdout",
     "output_type": "stream",
     "text": [
      "Part is OK.\n"
     ]
    }
   ],
   "source": [
    "from keras.preprocessing import image\n",
    "\n",
    "prediction_image = image.load_img('Dataset/Single_Prediction/Sakura.jpg', target_size=(64, 64))\n",
    "prediction_image = image.img_to_array(prediction_image)\n",
    "prediction_image = np.expand_dims(prediction_image, axis=0)\n",
    "\n",
    "result = modelCNN.predict(prediction_image)\n",
    "\n",
    "if result[0][0] == 1:\n",
    "    prediction = 'Part is OK.'\n",
    "else:\n",
    "    prediction = 'Part is defective!'\n",
    "print(prediction)"
   ]
  },
  {
   "cell_type": "markdown",
   "metadata": {},
   "source": [
    "# 5- ANN Model "
   ]
  },
  {
   "cell_type": "markdown",
   "metadata": {},
   "source": [
    "## 5.1 Build the ANN Model"
   ]
  },
  {
   "cell_type": "markdown",
   "metadata": {},
   "source": [
    "### 5.1.1 Add layers "
   ]
  },
  {
   "cell_type": "code",
   "execution_count": 13,
   "metadata": {},
   "outputs": [],
   "source": [
    "modelANN=keras.models.Sequential()\n",
    "modelANN.add(keras.layers.Flatten())\n",
    "modelANN.add(keras.layers.Dense(300,activation='relu'))\n",
    "modelANN.add(keras.layers.Dense(100,activation='relu'))\n",
    "modelANN.add(keras.layers.Dense(10,activation='softmax'))"
   ]
  },
  {
   "cell_type": "markdown",
   "metadata": {},
   "source": [
    "### 5.1.2 Compile the Model "
   ]
  },
  {
   "cell_type": "code",
   "execution_count": 14,
   "metadata": {},
   "outputs": [],
   "source": [
    "modelANN.compile(loss='sparse_categorical_crossentropy',optimizer='sgd',metrics=['accuracy'])"
   ]
  },
  {
   "cell_type": "markdown",
   "metadata": {},
   "source": [
    "## 5.2 Train the ANN Model "
   ]
  },
  {
   "cell_type": "code",
   "execution_count": 15,
   "metadata": {},
   "outputs": [
    {
     "name": "stdout",
     "output_type": "stream",
     "text": [
      "Epoch 1/50\n",
      "5/5 [==============================] - 1s 215ms/step - loss: 1.6548 - accuracy: 0.4218 - val_loss: 0.9148 - val_accuracy: 0.5946\n",
      "Epoch 2/50\n",
      "5/5 [==============================] - 1s 164ms/step - loss: 0.7619 - accuracy: 0.6122 - val_loss: 0.7132 - val_accuracy: 0.5946\n",
      "Epoch 3/50\n",
      "5/5 [==============================] - 1s 151ms/step - loss: 0.8272 - accuracy: 0.5102 - val_loss: 0.9445 - val_accuracy: 0.5946\n",
      "Epoch 4/50\n",
      "5/5 [==============================] - 1s 154ms/step - loss: 0.7079 - accuracy: 0.6327 - val_loss: 0.6697 - val_accuracy: 0.6216\n",
      "Epoch 5/50\n",
      "5/5 [==============================] - 1s 154ms/step - loss: 0.7127 - accuracy: 0.5782 - val_loss: 0.7311 - val_accuracy: 0.5946\n",
      "Epoch 6/50\n",
      "5/5 [==============================] - 1s 167ms/step - loss: 0.8248 - accuracy: 0.5102 - val_loss: 0.6666 - val_accuracy: 0.7297\n",
      "Epoch 7/50\n",
      "5/5 [==============================] - 1s 152ms/step - loss: 0.7250 - accuracy: 0.6190 - val_loss: 0.6394 - val_accuracy: 0.6216\n",
      "Epoch 8/50\n",
      "5/5 [==============================] - 1s 164ms/step - loss: 0.7323 - accuracy: 0.5102 - val_loss: 1.0608 - val_accuracy: 0.5946\n",
      "Epoch 9/50\n",
      "5/5 [==============================] - 1s 154ms/step - loss: 0.7374 - accuracy: 0.5986 - val_loss: 0.7439 - val_accuracy: 0.5946\n",
      "Epoch 10/50\n",
      "5/5 [==============================] - 1s 153ms/step - loss: 0.6177 - accuracy: 0.6871 - val_loss: 0.6185 - val_accuracy: 0.6757\n",
      "Epoch 11/50\n",
      "5/5 [==============================] - 1s 152ms/step - loss: 0.7889 - accuracy: 0.5646 - val_loss: 0.6622 - val_accuracy: 0.8378\n",
      "Epoch 12/50\n",
      "5/5 [==============================] - 1s 158ms/step - loss: 0.6822 - accuracy: 0.6395 - val_loss: 0.6411 - val_accuracy: 0.6757\n",
      "Epoch 13/50\n",
      "5/5 [==============================] - 1s 154ms/step - loss: 0.7710 - accuracy: 0.5034 - val_loss: 0.7358 - val_accuracy: 0.5946\n",
      "Epoch 14/50\n",
      "5/5 [==============================] - 1s 159ms/step - loss: 0.8369 - accuracy: 0.4558 - val_loss: 0.8222 - val_accuracy: 0.5946\n",
      "Epoch 15/50\n",
      "5/5 [==============================] - 1s 152ms/step - loss: 0.6304 - accuracy: 0.6735 - val_loss: 0.6419 - val_accuracy: 0.6216\n",
      "Epoch 16/50\n",
      "5/5 [==============================] - 1s 158ms/step - loss: 0.6589 - accuracy: 0.6259 - val_loss: 1.1319 - val_accuracy: 0.5946\n",
      "Epoch 17/50\n",
      "5/5 [==============================] - 1s 163ms/step - loss: 0.7256 - accuracy: 0.6259 - val_loss: 0.6768 - val_accuracy: 0.5946\n",
      "Epoch 18/50\n",
      "5/5 [==============================] - 1s 165ms/step - loss: 0.6124 - accuracy: 0.6463 - val_loss: 0.5802 - val_accuracy: 0.8378\n",
      "Epoch 19/50\n",
      "5/5 [==============================] - 1s 155ms/step - loss: 0.6388 - accuracy: 0.6395 - val_loss: 0.8134 - val_accuracy: 0.5946\n",
      "Epoch 20/50\n",
      "5/5 [==============================] - 1s 171ms/step - loss: 0.7983 - accuracy: 0.5306 - val_loss: 0.6886 - val_accuracy: 0.6216\n",
      "Epoch 21/50\n",
      "5/5 [==============================] - 1s 164ms/step - loss: 0.6296 - accuracy: 0.6939 - val_loss: 0.5871 - val_accuracy: 0.7568\n",
      "Epoch 22/50\n",
      "5/5 [==============================] - 1s 151ms/step - loss: 0.6712 - accuracy: 0.5442 - val_loss: 0.8631 - val_accuracy: 0.5946\n",
      "Epoch 23/50\n",
      "5/5 [==============================] - 1s 151ms/step - loss: 0.6660 - accuracy: 0.6735 - val_loss: 0.6113 - val_accuracy: 0.7568\n",
      "Epoch 24/50\n",
      "5/5 [==============================] - 1s 148ms/step - loss: 0.6026 - accuracy: 0.7143 - val_loss: 0.5826 - val_accuracy: 0.6757\n",
      "Epoch 25/50\n",
      "5/5 [==============================] - 1s 151ms/step - loss: 0.5843 - accuracy: 0.7211 - val_loss: 0.5728 - val_accuracy: 0.8108\n",
      "Epoch 26/50\n",
      "5/5 [==============================] - 1s 151ms/step - loss: 0.7880 - accuracy: 0.5374 - val_loss: 0.6725 - val_accuracy: 0.5946\n",
      "Epoch 27/50\n",
      "5/5 [==============================] - 1s 154ms/step - loss: 0.6300 - accuracy: 0.6395 - val_loss: 0.5906 - val_accuracy: 0.6757\n",
      "Epoch 28/50\n",
      "5/5 [==============================] - 1s 150ms/step - loss: 0.6225 - accuracy: 0.7211 - val_loss: 0.7834 - val_accuracy: 0.4054\n",
      "Epoch 29/50\n",
      "5/5 [==============================] - 1s 155ms/step - loss: 0.7276 - accuracy: 0.5238 - val_loss: 0.5739 - val_accuracy: 0.7297\n",
      "Epoch 30/50\n",
      "5/5 [==============================] - 1s 161ms/step - loss: 0.5961 - accuracy: 0.7211 - val_loss: 0.6655 - val_accuracy: 0.6216\n",
      "Epoch 31/50\n",
      "5/5 [==============================] - 1s 152ms/step - loss: 0.6593 - accuracy: 0.6122 - val_loss: 0.5657 - val_accuracy: 0.7838\n",
      "Epoch 32/50\n",
      "5/5 [==============================] - 1s 150ms/step - loss: 0.5730 - accuracy: 0.7619 - val_loss: 0.5561 - val_accuracy: 0.6757\n",
      "Epoch 33/50\n",
      "5/5 [==============================] - 1s 160ms/step - loss: 0.5886 - accuracy: 0.7347 - val_loss: 0.8132 - val_accuracy: 0.4054\n",
      "Epoch 34/50\n",
      "5/5 [==============================] - 1s 161ms/step - loss: 0.8324 - accuracy: 0.5102 - val_loss: 1.2974 - val_accuracy: 0.5946\n",
      "Epoch 35/50\n",
      "5/5 [==============================] - 1s 162ms/step - loss: 0.7137 - accuracy: 0.7143 - val_loss: 0.5637 - val_accuracy: 0.6757\n",
      "Epoch 36/50\n",
      "5/5 [==============================] - 1s 152ms/step - loss: 0.5479 - accuracy: 0.7007 - val_loss: 0.5124 - val_accuracy: 0.8108\n",
      "Epoch 37/50\n",
      "5/5 [==============================] - 1s 150ms/step - loss: 0.5802 - accuracy: 0.6871 - val_loss: 1.0093 - val_accuracy: 0.4054\n",
      "Epoch 38/50\n",
      "5/5 [==============================] - 1s 151ms/step - loss: 0.6702 - accuracy: 0.6327 - val_loss: 0.5114 - val_accuracy: 0.8649\n",
      "Epoch 39/50\n",
      "5/5 [==============================] - 1s 152ms/step - loss: 0.5629 - accuracy: 0.7823 - val_loss: 0.5769 - val_accuracy: 0.7297\n",
      "Epoch 40/50\n",
      "5/5 [==============================] - 1s 153ms/step - loss: 0.7156 - accuracy: 0.6122 - val_loss: 0.5601 - val_accuracy: 0.9189\n",
      "Epoch 41/50\n",
      "5/5 [==============================] - 1s 155ms/step - loss: 0.5506 - accuracy: 0.7687 - val_loss: 0.5135 - val_accuracy: 0.8919\n",
      "Epoch 42/50\n",
      "5/5 [==============================] - 1s 151ms/step - loss: 0.6660 - accuracy: 0.5714 - val_loss: 0.6011 - val_accuracy: 0.6216\n",
      "Epoch 43/50\n",
      "5/5 [==============================] - 1s 154ms/step - loss: 0.5595 - accuracy: 0.7415 - val_loss: 0.5339 - val_accuracy: 0.8108\n",
      "Epoch 44/50\n",
      "5/5 [==============================] - 1s 151ms/step - loss: 0.5540 - accuracy: 0.7619 - val_loss: 0.5790 - val_accuracy: 0.6216\n",
      "Epoch 45/50\n",
      "5/5 [==============================] - 1s 154ms/step - loss: 0.5492 - accuracy: 0.7075 - val_loss: 0.6107 - val_accuracy: 0.6216\n",
      "Epoch 46/50\n",
      "5/5 [==============================] - 1s 150ms/step - loss: 0.5403 - accuracy: 0.7279 - val_loss: 0.5273 - val_accuracy: 0.8108\n",
      "Epoch 47/50\n",
      "5/5 [==============================] - 1s 152ms/step - loss: 0.5722 - accuracy: 0.7007 - val_loss: 0.6533 - val_accuracy: 0.5676\n",
      "Epoch 48/50\n",
      "5/5 [==============================] - 1s 162ms/step - loss: 0.5763 - accuracy: 0.6667 - val_loss: 0.5841 - val_accuracy: 0.6216\n",
      "Epoch 49/50\n",
      "5/5 [==============================] - 1s 156ms/step - loss: 0.4963 - accuracy: 0.7891 - val_loss: 0.5551 - val_accuracy: 0.6486\n",
      "Epoch 50/50\n",
      "5/5 [==============================] - 1s 157ms/step - loss: 0.7179 - accuracy: 0.6054 - val_loss: 0.5294 - val_accuracy: 0.6757\n"
     ]
    }
   ],
   "source": [
    "historyANN=modelANN.fit(x = training_set, validation_data = test_set, epochs = 50)"
   ]
  },
  {
   "cell_type": "markdown",
   "metadata": {},
   "source": [
    "## 5.3 Plot the Accuracy and Loss "
   ]
  },
  {
   "cell_type": "code",
   "execution_count": 16,
   "metadata": {},
   "outputs": [
    {
     "data": {
      "text/plain": [
       "<function matplotlib.pyplot.show(close=None, block=None)>"
      ]
     },
     "execution_count": 16,
     "metadata": {},
     "output_type": "execute_result"
    },
    {
     "data": {
      "image/png": "[encoded data removed]",
      "text/plain": [
       "<Figure size 576x360 with 1 Axes>"
      ]
     },
     "metadata": {
      "needs_background": "light"
     },
     "output_type": "display_data"
    }
   ],
   "source": [
    "Performance=pd.DataFrame(historyANN.history)\n",
    "\n",
    "Performance.plot(figsize=(8,5))\n",
    "plt.grid(True)\n",
    "plt.gca().set_ylim(0,1)\n",
    "plt.show"
   ]
  },
  {
   "cell_type": "markdown",
   "metadata": {},
   "source": [
    "## 5.4 Make a Prediction "
   ]
  },
  {
   "cell_type": "code",
   "execution_count": 17,
   "metadata": {},
   "outputs": [
    {
     "name": "stdout",
     "output_type": "stream",
     "text": [
      "Part is OK.\n"
     ]
    }
   ],
   "source": [
    "prediction_image = image.load_img('Dataset/Single_Prediction/Sakura.jpg', target_size=(64, 64))\n",
    "prediction_image = image.img_to_array(prediction_image)\n",
    "prediction_image = np.expand_dims(prediction_image, axis=0)\n",
    "\n",
    "result = modelANN.predict(prediction_image)\n",
    "\n",
    "if result[0][0] == 0:\n",
    "    prediction = 'Part is OK.'\n",
    "else:\n",
    "    prediction = 'Part is defective!'\n",
    "print(prediction)"
   ]
  },
  {
   "cell_type": "markdown",
   "metadata": {},
   "source": [
    "# 6- SVM Model "
   ]
  },
  {
   "cell_type": "raw",
   "metadata": {},
   "source": [
    "The code for the SVM Model is inspired from the following source:\n",
    "\n",
    "https://medium.com/analytics-vidhya/image-classification-using-machine-learning-support-vector-machine-svm-dc7a0ec92e01"
   ]
  },
  {
   "cell_type": "markdown",
   "metadata": {},
   "source": [
    "## 6.1 Preprocessing "
   ]
  },
  {
   "cell_type": "code",
   "execution_count": 18,
   "metadata": {},
   "outputs": [
    {
     "name": "stdout",
     "output_type": "stream",
     "text": [
      "loading category : Bad Layer\n",
      "loaded train category : Bad Layer successfully\n",
      "loaded test category : Bad Layer successfully\n",
      "loading category : Good Layer\n",
      "loaded train category : Good Layer successfully\n",
      "loaded test category : Good Layer successfully\n"
     ]
    }
   ],
   "source": [
    "Categories=['Bad Layer','Good Layer']\n",
    "\n",
    "flat_data_arr_train=[] #input array train\n",
    "flat_data_arr_test=[] #input array test\n",
    "target_arr_train=[] #output array train\n",
    "target_arr_test=[] #output array test\n",
    "\n",
    "datadirtrain='..\\\\Dataset\\\\Training_Set' #relative path\n",
    "datadirtest='..\\\\Dataset\\\\Test_Set'\n",
    "#datadirtest=r\\\"C:\\\\Users\\\\Utilisateur\\\\Desktop\\\\DTU\\\\3rd semester\\\\MANU 465 AI and Machine Learning\\\\project\\\\Dataset\\\\Test_Set\\\"  #absolute path\n",
    "#paths which contains all the categories of images\\n\",\n",
    "\n",
    "for i in Categories:   \n",
    "    print(f'loading category : {i}')\n",
    "    \n",
    "    pathtrain=os.path.join(datadirtrain, i)\n",
    "\n",
    "    for img in os.listdir(pathtrain):\n",
    "        img_array=imread(os.path.join(pathtrain,img))\n",
    "        img_resized=resize(img_array,(150,150,3))\n",
    "        flat_data_arr_train.append(img_resized.flatten())\n",
    "        target_arr_train.append(Categories.index(i))\n",
    "    print(f'loaded train category : {i} successfully')\n",
    "    \n",
    "    pathtest=os.path.join(datadirtest, i)\n",
    "\n",
    "    for img in os.listdir(pathtest):\n",
    "        img_array=imread(os.path.join(pathtest,img))\n",
    "        img_resized=resize(img_array,(150,150,3))\n",
    "        flat_data_arr_test.append(img_resized.flatten())\n",
    "        target_arr_test.append(Categories.index(i))\n",
    "    print(f'loaded test category : {i} successfully')\n",
    "\n",
    "flat_data_train=np.array(flat_data_arr_train,dtype=object)\n",
    "flat_data_test=np.array(flat_data_arr_test,dtype=object)\n",
    "target_train=np.array(target_arr_train)\n",
    "target_test=np.array(target_arr_test)\n",
    "\n",
    "df_train=pd.DataFrame(flat_data_train)\n",
    "df_test=pd.DataFrame(flat_data_test)\n",
    "\n",
    "df_train['Target']=target_train\n",
    "df_test['Target']=target_test\n",
    "\n",
    "x_train=df_train.iloc[:,:-1] #input train data\n",
    "y_train=df_train.iloc[:,-1] #output train data\n",
    "\n",
    "x_test=df_test.iloc[:,:-1] #input test data\n",
    "y_test=df_test.iloc[:,-1] #output test data"
   ]
  },
  {
   "cell_type": "markdown",
   "metadata": {},
   "source": [
    "## 6.2 Buid the Model "
   ]
  },
  {
   "cell_type": "code",
   "execution_count": 31,
   "metadata": {},
   "outputs": [],
   "source": [
    "param_grid={'C':[0.001, 0.01, 0.1,1,10,100, 1000],'gamma':[0.0001,0.001,0.1,1, 10],'kernel':['rbf','poly']}\n",
    "svc=svm.SVC(probability=True)\n",
    "modelSVM=GridSearchCV(svc,param_grid)"
   ]
  },
  {
   "cell_type": "markdown",
   "metadata": {},
   "source": [
    "## 6.3 Train the SVM Model "
   ]
  },
  {
   "cell_type": "code",
   "execution_count": 32,
   "metadata": {},
   "outputs": [
    {
     "name": "stdout",
     "output_type": "stream",
     "text": [
      "The Model is trained well with the given images\n"
     ]
    }
   ],
   "source": [
    "historySVM=modelSVM.fit(x_train, y_train)\n",
    "print('The Model is trained well with the given images')"
   ]
  },
  {
   "cell_type": "code",
   "execution_count": 33,
   "metadata": {},
   "outputs": [
    {
     "data": {
      "text/plain": [
       "{'C': 0.1, 'gamma': 0.001, 'kernel': 'rbf'}"
      ]
     },
     "execution_count": 33,
     "metadata": {},
     "output_type": "execute_result"
    }
   ],
   "source": [
    "modelSVM.best_params_\n",
    "#model.best_params_ contains the best parameters obtained from GridSearchCV"
   ]
  },
  {
   "cell_type": "markdown",
   "metadata": {},
   "source": [
    "## 6.4 Accuracy and Prediction "
   ]
  },
  {
   "cell_type": "code",
   "execution_count": 34,
   "metadata": {
    "scrolled": true
   },
   "outputs": [
    {
     "name": "stdout",
     "output_type": "stream",
     "text": [
      "The predicted Data is :\n",
      "[1 1 1 1 1 1 1 1 1 1 1 1 1 1 1 1 1 1 1 1 1 1 1 1]\n",
      "The actual data is:\n",
      "[0 0 0 0 0 0 1 1 1 1 1 1 1 1 1 1 1 1 1 1 1 1 1 1]\n",
      "The model is 75.0% accurate\n"
     ]
    }
   ],
   "source": [
    "y_pred=modelSVM.predict(x_test)\n",
    "print(\"The predicted Data is :\")\n",
    "print(y_pred)\n",
    "print(\"The actual data is:\")\n",
    "print(np.array(y_test))\n",
    "print(f\"The model is {accuracy_score(y_pred,y_test)*100}% accurate\")"
   ]
  },
  {
   "cell_type": "code",
   "execution_count": null,
   "metadata": {},
   "outputs": [],
   "source": []
  }
 ],
 "metadata": {
  "kernelspec": {
   "display_name": "Python 3",
   "language": "python",
   "name": "python3"
  },
  "language_info": {
   "codemirror_mode": {
    "name": "ipython",
    "version": 3
   },
   "file_extension": ".py",
   "mimetype": "text/x-python",
   "name": "python",
   "nbconvert_exporter": "python",
   "pygments_lexer": "ipython3",
   "version": "3.8.8"
  },
  "toc": {
   "base_numbering": 1,
   "nav_menu": {},
   "number_sections": true,
   "sideBar": true,
   "skip_h1_title": false,
   "title_cell": "Table of Contents",
   "title_sidebar": "Contents",
   "toc_cell": false,
   "toc_position": {},
   "toc_section_display": true,
   "toc_window_display": false
  }
 },
 "nbformat": 4,
 "nbformat_minor": 1
}
