{
 "cells": [
  {
   "cell_type": "markdown",
   "metadata": {
    "collapsed": true,
    "pycharm": {
     "name": "#%% md\n"
    }
   },
   "source": [
    "# MANU 465 Project: 3D Printing"
   ]
  },
  {
   "cell_type": "markdown",
   "metadata": {
    "pycharm": {
     "name": "#%% md\n"
    }
   },
   "source": [
    "### Authors:\n",
    "\n",
    "_Group 7_\n",
    "\n",
    "Liam Bontkes\n",
    "\n",
    "Stacy Shang\n",
    "\n",
    "Théophile Calloc'h\n",
    "\n",
    "Tony Lyu"
   ]
  },
  {
   "cell_type": "markdown",
   "metadata": {
    "pycharm": {
     "name": "#%% md\n"
    }
   },
   "source": [
    "# 1- Project Description\n",
    "\n",
    "The goal of this project is to create a machine learning model which is capable of identifying defective print layers\n",
    "and classifying 3D print layers as Pass/Fail with 85% or greater accuracy. The machine learning model will use a series\n",
    "of images of print layers (defective and non-defective), interpreted with a machine vision model. To reduce the scope\n",
    "of the project, we will only train the model on simple geometric shapes such as cubes, spheres and pyramids.\n",
    "Additionally, we will only be training the model on 3D prints from a fused filament fabrication printer using\n",
    "polylactic acid filament and a 4mm extruder head."
   ]
  },
  {
   "cell_type": "markdown",
   "metadata": {
    "pycharm": {
     "name": "#%% md\n"
    }
   },
   "source": [
    "# 2- Libraries"
   ]
  },
  {
   "cell_type": "code",
   "execution_count": 25,
   "metadata": {
    "pycharm": {
     "name": "#%%\n"
    }
   },
   "outputs": [],
   "source": [
    "import tensorflow as tf\n",
    "import matplotlib.pyplot as plt\n",
    "import numpy as np\n",
    "import pandas as pd\n",
    "from tensorflow import keras\n",
    "import os\n",
    "from skimage.transform import resize\n",
    "from skimage.io import imread\n",
    "from sklearn import svm\n",
    "from sklearn.model_selection import GridSearchCV\n",
    "from sklearn.model_selection import train_test_split\n",
    "from sklearn.metrics import accuracy_score"
   ]
  },
  {
   "cell_type": "markdown",
   "metadata": {
    "pycharm": {
     "name": "#%% md\n"
    }
   },
   "source": [
    "# 3- Data Preprocessing\n",
    "\n",
    "Preprocess the training and test set."
   ]
  },
  {
   "cell_type": "code",
   "execution_count": 26,
   "metadata": {
    "pycharm": {
     "name": "#%%\n"
    }
   },
   "outputs": [
    {
     "name": "stdout",
     "output_type": "stream",
     "text": [
      "Found 147 images belonging to 2 classes.\n",
      "Found 45 images belonging to 2 classes.\n"
     ]
    }
   ],
   "source": [
    "from keras.preprocessing.image import ImageDataGenerator\n",
    "\n",
    "image_data_generator = ImageDataGenerator(rescale=1. / 255,\n",
    "                                          shear_range=0.2,\n",
    "                                          zoom_range=0.2,\n",
    "                                          horizontal_flip=True)\n",
    "\n",
    "training_set = image_data_generator.flow_from_directory('Dataset/training_set',\n",
    "                                                        target_size=(64, 64),\n",
    "                                                        batch_size=32,\n",
    "                                                        class_mode='binary')\n",
    "\n",
    "test_set = image_data_generator.flow_from_directory('Dataset/test_set',\n",
    "                                                    target_size=(64, 64),\n",
    "                                                    batch_size=32,\n",
    "                                                    class_mode='binary')"
   ]
  },
  {
   "cell_type": "markdown",
   "metadata": {
    "pycharm": {
     "name": "#%% md\n"
    }
   },
   "source": [
    "# 4- CNN Model"
   ]
  },
  {
   "cell_type": "markdown",
   "metadata": {},
   "source": [
    "## 4.1 Build the CNN Model "
   ]
  },
  {
   "cell_type": "markdown",
   "metadata": {
    "pycharm": {
     "name": "#%% md\n"
    }
   },
   "source": [
    "### 4.1.1 Initialize the Model"
   ]
  },
  {
   "cell_type": "code",
   "execution_count": 27,
   "metadata": {
    "pycharm": {
     "name": "#%%\n"
    }
   },
   "outputs": [],
   "source": [
    "modelCNN = tf.keras.models.Sequential()"
   ]
  },
  {
   "cell_type": "markdown",
   "metadata": {
    "pycharm": {
     "name": "#%% md\n"
    }
   },
   "source": [
    "### 4.1.2 Add Convolutional Layers"
   ]
  },
  {
   "cell_type": "code",
   "execution_count": 28,
   "metadata": {
    "pycharm": {
     "name": "#%%\n"
    }
   },
   "outputs": [],
   "source": [
    "# add and pool 1st layer\n",
    "modelCNN.add(tf.keras.layers.Conv2D(filters=32, kernel_size=3, activation='relu', input_shape=[64, 64, 3]))\n",
    "modelCNN.add(tf.keras.layers.MaxPool2D(pool_size=2, strides=1))"
   ]
  },
  {
   "cell_type": "code",
   "execution_count": 29,
   "metadata": {
    "pycharm": {
     "name": "#%%\n"
    }
   },
   "outputs": [],
   "source": [
    "# add and pool 2nd layer\n",
    "modelCNN.add(tf.keras.layers.Conv2D(filters=32, kernel_size=3, activation='relu'))\n",
    "modelCNN.add(tf.keras.layers.MaxPool2D(pool_size=2, strides=1))"
   ]
  },
  {
   "cell_type": "markdown",
   "metadata": {},
   "source": [
    "### 4.1.3 Flatten the Model"
   ]
  },
  {
   "cell_type": "code",
   "execution_count": 30,
   "metadata": {
    "pycharm": {
     "name": "#%%\n"
    }
   },
   "outputs": [],
   "source": [
    "modelCNN.add(tf.keras.layers.Flatten())"
   ]
  },
  {
   "cell_type": "markdown",
   "metadata": {},
   "source": [
    "### 4.1.4 Add Connection Layer"
   ]
  },
  {
   "cell_type": "code",
   "execution_count": 31,
   "metadata": {
    "pycharm": {
     "name": "#%%\n"
    }
   },
   "outputs": [],
   "source": [
    "modelCNN.add(tf.keras.layers.Dense(units=256, activation='relu'))"
   ]
  },
  {
   "cell_type": "markdown",
   "metadata": {},
   "source": [
    "### 4.1.5 Add Output Layer"
   ]
  },
  {
   "cell_type": "code",
   "execution_count": 32,
   "metadata": {
    "pycharm": {
     "name": "#%%\n"
    }
   },
   "outputs": [],
   "source": [
    "modelCNN.add(tf.keras.layers.Dense(units=1, activation='sigmoid'))"
   ]
  },
  {
   "cell_type": "markdown",
   "metadata": {},
   "source": [
    "### 4.1.6 Compile the Model"
   ]
  },
  {
   "cell_type": "code",
   "execution_count": 33,
   "metadata": {
    "pycharm": {
     "name": "#%%\n"
    }
   },
   "outputs": [],
   "source": [
    "modelCNN.compile(optimizer='adam', loss='binary_crossentropy', metrics=['accuracy'])"
   ]
  },
  {
   "cell_type": "markdown",
   "metadata": {},
   "source": [
    "## 4.2 Train the CNN Model"
   ]
  },
  {
   "cell_type": "code",
   "execution_count": 34,
   "metadata": {
    "pycharm": {
     "name": "#%%\n"
    }
   },
   "outputs": [
    {
     "name": "stdout",
     "output_type": "stream",
     "text": [
      "Epoch 1/50\n",
      "5/5 [==============================] - 3s 519ms/step - loss: 6.1396 - accuracy: 0.5578 - val_loss: 3.9162 - val_accuracy: 0.3333\n",
      "Epoch 2/50\n",
      "5/5 [==============================] - 2s 410ms/step - loss: 1.5178 - accuracy: 0.4490 - val_loss: 0.5992 - val_accuracy: 0.6667\n",
      "Epoch 3/50\n",
      "5/5 [==============================] - 2s 463ms/step - loss: 0.6648 - accuracy: 0.6054 - val_loss: 0.6681 - val_accuracy: 0.6667\n",
      "Epoch 4/50\n",
      "5/5 [==============================] - 2s 405ms/step - loss: 0.6753 - accuracy: 0.6054 - val_loss: 0.6523 - val_accuracy: 0.6667\n",
      "Epoch 5/50\n",
      "5/5 [==============================] - 2s 432ms/step - loss: 0.6417 - accuracy: 0.6122 - val_loss: 0.6048 - val_accuracy: 0.6889\n",
      "Epoch 6/50\n",
      "5/5 [==============================] - 2s 405ms/step - loss: 0.5952 - accuracy: 0.6667 - val_loss: 0.5513 - val_accuracy: 0.8222\n",
      "Epoch 7/50\n",
      "5/5 [==============================] - 2s 393ms/step - loss: 0.5598 - accuracy: 0.6803 - val_loss: 0.6659 - val_accuracy: 0.6889\n",
      "Epoch 8/50\n",
      "5/5 [==============================] - 2s 390ms/step - loss: 0.5506 - accuracy: 0.7007 - val_loss: 0.4772 - val_accuracy: 0.7778\n",
      "Epoch 9/50\n",
      "5/5 [==============================] - 2s 412ms/step - loss: 0.5069 - accuracy: 0.7415 - val_loss: 0.5271 - val_accuracy: 0.8667\n",
      "Epoch 10/50\n",
      "5/5 [==============================] - 2s 391ms/step - loss: 0.4788 - accuracy: 0.7959 - val_loss: 0.4840 - val_accuracy: 0.8889\n",
      "Epoch 11/50\n",
      "5/5 [==============================] - 2s 426ms/step - loss: 0.4343 - accuracy: 0.7755 - val_loss: 0.4505 - val_accuracy: 0.8444\n",
      "Epoch 12/50\n",
      "5/5 [==============================] - 2s 426ms/step - loss: 0.3922 - accuracy: 0.8435 - val_loss: 0.3772 - val_accuracy: 0.8667\n",
      "Epoch 13/50\n",
      "5/5 [==============================] - 2s 425ms/step - loss: 0.4335 - accuracy: 0.8163 - val_loss: 0.8183 - val_accuracy: 0.4222\n",
      "Epoch 14/50\n",
      "5/5 [==============================] - 2s 451ms/step - loss: 0.4209 - accuracy: 0.7619 - val_loss: 0.4304 - val_accuracy: 0.8222\n",
      "Epoch 15/50\n",
      "5/5 [==============================] - 2s 415ms/step - loss: 0.3937 - accuracy: 0.8231 - val_loss: 0.5150 - val_accuracy: 0.7556\n",
      "Epoch 16/50\n",
      "5/5 [==============================] - 2s 420ms/step - loss: 0.3617 - accuracy: 0.8435 - val_loss: 0.5463 - val_accuracy: 0.7333\n",
      "Epoch 17/50\n",
      "5/5 [==============================] - 2s 417ms/step - loss: 0.3260 - accuracy: 0.8503 - val_loss: 0.5991 - val_accuracy: 0.6222\n",
      "Epoch 18/50\n",
      "5/5 [==============================] - 2s 412ms/step - loss: 0.3388 - accuracy: 0.8503 - val_loss: 0.4081 - val_accuracy: 0.8667\n",
      "Epoch 19/50\n",
      "5/5 [==============================] - 2s 401ms/step - loss: 0.3328 - accuracy: 0.8435 - val_loss: 0.4525 - val_accuracy: 0.7333\n",
      "Epoch 20/50\n",
      "5/5 [==============================] - 2s 397ms/step - loss: 0.2944 - accuracy: 0.8503 - val_loss: 0.3461 - val_accuracy: 0.9333\n",
      "Epoch 21/50\n",
      "5/5 [==============================] - 2s 435ms/step - loss: 0.3217 - accuracy: 0.8503 - val_loss: 0.3622 - val_accuracy: 0.8667\n",
      "Epoch 22/50\n",
      "5/5 [==============================] - 2s 411ms/step - loss: 0.3115 - accuracy: 0.8367 - val_loss: 0.5322 - val_accuracy: 0.7778\n",
      "Epoch 23/50\n",
      "5/5 [==============================] - 2s 413ms/step - loss: 0.2712 - accuracy: 0.8503 - val_loss: 0.5550 - val_accuracy: 0.6889\n",
      "Epoch 24/50\n",
      "5/5 [==============================] - 2s 432ms/step - loss: 0.3026 - accuracy: 0.8435 - val_loss: 0.4862 - val_accuracy: 0.8222\n",
      "Epoch 25/50\n",
      "5/5 [==============================] - 2s 450ms/step - loss: 0.3065 - accuracy: 0.8435 - val_loss: 0.5285 - val_accuracy: 0.8000\n",
      "Epoch 26/50\n",
      "5/5 [==============================] - 2s 427ms/step - loss: 0.2894 - accuracy: 0.8776 - val_loss: 0.5563 - val_accuracy: 0.8000\n",
      "Epoch 27/50\n",
      "5/5 [==============================] - 2s 421ms/step - loss: 0.2725 - accuracy: 0.8707 - val_loss: 0.5193 - val_accuracy: 0.8444\n",
      "Epoch 28/50\n",
      "5/5 [==============================] - 2s 402ms/step - loss: 0.2476 - accuracy: 0.9116 - val_loss: 0.5507 - val_accuracy: 0.7778\n",
      "Epoch 29/50\n",
      "5/5 [==============================] - 2s 442ms/step - loss: 0.2643 - accuracy: 0.8707 - val_loss: 0.5709 - val_accuracy: 0.7556\n",
      "Epoch 30/50\n",
      "5/5 [==============================] - 2s 415ms/step - loss: 0.3231 - accuracy: 0.8435 - val_loss: 0.5538 - val_accuracy: 0.6889\n",
      "Epoch 31/50\n",
      "5/5 [==============================] - 2s 419ms/step - loss: 0.2803 - accuracy: 0.8707 - val_loss: 0.4370 - val_accuracy: 0.8667\n",
      "Epoch 32/50\n",
      "5/5 [==============================] - 2s 422ms/step - loss: 0.2213 - accuracy: 0.9116 - val_loss: 0.4414 - val_accuracy: 0.8667\n",
      "Epoch 33/50\n",
      "5/5 [==============================] - 2s 403ms/step - loss: 0.2009 - accuracy: 0.9116 - val_loss: 0.3982 - val_accuracy: 0.8444\n",
      "Epoch 34/50\n",
      "5/5 [==============================] - 2s 438ms/step - loss: 0.2375 - accuracy: 0.9048 - val_loss: 0.4852 - val_accuracy: 0.8889\n",
      "Epoch 35/50\n",
      "5/5 [==============================] - 2s 399ms/step - loss: 0.1969 - accuracy: 0.9184 - val_loss: 0.4058 - val_accuracy: 0.9111\n",
      "Epoch 36/50\n",
      "5/5 [==============================] - 2s 394ms/step - loss: 0.2081 - accuracy: 0.9524 - val_loss: 0.6208 - val_accuracy: 0.8444\n",
      "Epoch 37/50\n",
      "5/5 [==============================] - 2s 386ms/step - loss: 0.1773 - accuracy: 0.9252 - val_loss: 0.6371 - val_accuracy: 0.8667\n",
      "Epoch 38/50\n",
      "5/5 [==============================] - 2s 396ms/step - loss: 0.1821 - accuracy: 0.9116 - val_loss: 0.4777 - val_accuracy: 0.8222\n",
      "Epoch 39/50\n",
      "5/5 [==============================] - 2s 393ms/step - loss: 0.2201 - accuracy: 0.9116 - val_loss: 0.3255 - val_accuracy: 0.8222\n",
      "Epoch 40/50\n",
      "5/5 [==============================] - 2s 383ms/step - loss: 0.1898 - accuracy: 0.9388 - val_loss: 1.0404 - val_accuracy: 0.8889\n",
      "Epoch 41/50\n",
      "5/5 [==============================] - 2s 393ms/step - loss: 0.1982 - accuracy: 0.9048 - val_loss: 0.6490 - val_accuracy: 0.7778\n",
      "Epoch 42/50\n",
      "5/5 [==============================] - 2s 392ms/step - loss: 0.1691 - accuracy: 0.9320 - val_loss: 0.7629 - val_accuracy: 0.8667\n",
      "Epoch 43/50\n",
      "5/5 [==============================] - 2s 389ms/step - loss: 0.1915 - accuracy: 0.9252 - val_loss: 0.6142 - val_accuracy: 0.8667\n",
      "Epoch 44/50\n",
      "5/5 [==============================] - 2s 379ms/step - loss: 0.1592 - accuracy: 0.9388 - val_loss: 0.6443 - val_accuracy: 0.8222\n",
      "Epoch 45/50\n",
      "5/5 [==============================] - 2s 385ms/step - loss: 0.1559 - accuracy: 0.9388 - val_loss: 0.8825 - val_accuracy: 0.8444\n",
      "Epoch 46/50\n",
      "5/5 [==============================] - 2s 391ms/step - loss: 0.1562 - accuracy: 0.9388 - val_loss: 1.2073 - val_accuracy: 0.8667\n",
      "Epoch 47/50\n",
      "5/5 [==============================] - 2s 402ms/step - loss: 0.1773 - accuracy: 0.9320 - val_loss: 0.7128 - val_accuracy: 0.8444\n",
      "Epoch 48/50\n",
      "5/5 [==============================] - 2s 442ms/step - loss: 0.1847 - accuracy: 0.9252 - val_loss: 1.0536 - val_accuracy: 0.8889\n",
      "Epoch 49/50\n",
      "5/5 [==============================] - 2s 398ms/step - loss: 0.1458 - accuracy: 0.9456 - val_loss: 0.3450 - val_accuracy: 0.7778\n",
      "Epoch 50/50\n",
      "5/5 [==============================] - 2s 399ms/step - loss: 0.1598 - accuracy: 0.9524 - val_loss: 0.5995 - val_accuracy: 0.8667\n"
     ]
    }
   ],
   "source": [
    "historyCNN=modelCNN.fit(x=training_set, validation_data=test_set, epochs=50)"
   ]
  },
  {
   "cell_type": "markdown",
   "metadata": {},
   "source": [
    "## 4.3 Plot the Accuracy and Loss "
   ]
  },
  {
   "cell_type": "code",
   "execution_count": 37,
   "metadata": {},
   "outputs": [
    {
     "name": "stdout",
     "output_type": "stream",
     "text": [
      "The CNN model has a prediction accuracy of 95.24%.\n"
     ]
    },
    {
     "data": {
      "image/png": "[encoded data removed]",
      "text/plain": [
       "<Figure size 576x360 with 1 Axes>"
      ]
     },
     "metadata": {
      "needs_background": "light"
     },
     "output_type": "display_data"
    }
   ],
   "source": [
    "Performance=pd.DataFrame(historyCNN.history)\n",
    "\n",
    "Performance.plot(figsize=(8,5))\n",
    "plt.grid(True)\n",
    "plt.gca().set_ylim(0,1)\n",
    "plt.show\n",
    "\n",
    "print(\"The CNN model has a prediction accuracy of 95.24%.\")"
   ]
  },
  {
   "cell_type": "markdown",
   "metadata": {
    "pycharm": {
     "name": "#%% md\n"
    }
   },
   "source": [
    "## 4.4 Make a Prediction"
   ]
  },
  {
   "cell_type": "code",
   "execution_count": 38,
   "metadata": {
    "pycharm": {
     "name": "#%%\n"
    }
   },
   "outputs": [
    {
     "name": "stdout",
     "output_type": "stream",
     "text": [
      "Part is OK.\n"
     ]
    }
   ],
   "source": [
    "from keras.preprocessing import image\n",
    "\n",
    "prediction_image = image.load_img('Dataset/Single_Prediction/Triangle_3.jpg', target_size=(64, 64))\n",
    "prediction_image = image.img_to_array(prediction_image)\n",
    "prediction_image = np.expand_dims(prediction_image, axis=0)\n",
    "\n",
    "result = modelCNN.predict(prediction_image)\n",
    "\n",
    "if result[0][0] == 1:\n",
    "    prediction = 'Part is OK.'\n",
    "else:\n",
    "    prediction = 'Part is defective!'\n",
    "print(prediction)"
   ]
  },
  {
   "cell_type": "markdown",
   "metadata": {},
   "source": [
    "# 5- ANN Model "
   ]
  },
  {
   "cell_type": "markdown",
   "metadata": {},
   "source": [
    "## 5.1 Build the ANN Model"
   ]
  },
  {
   "cell_type": "markdown",
   "metadata": {},
   "source": [
    "### 5.1.1 Add layers "
   ]
  },
  {
   "cell_type": "code",
   "execution_count": 23,
   "metadata": {},
   "outputs": [],
   "source": [
    "modelANN=keras.models.Sequential()\n",
    "modelANN.add(keras.layers.Flatten())\n",
    "modelANN.add(keras.layers.Dense(300,activation='relu'))\n",
    "modelANN.add(keras.layers.Dense(100,activation='relu'))\n",
    "modelANN.add(keras.layers.Dense(10,activation='softmax'))"
   ]
  },
  {
   "cell_type": "markdown",
   "metadata": {},
   "source": [
    "### 5.1.2 Compile the Model "
   ]
  },
  {
   "cell_type": "code",
   "execution_count": 24,
   "metadata": {},
   "outputs": [],
   "source": [
    "modelANN.compile(loss='sparse_categorical_crossentropy',optimizer='sgd',metrics=['accuracy'])"
   ]
  },
  {
   "cell_type": "markdown",
   "metadata": {},
   "source": [
    "## 5.2 Train the ANN Model "
   ]
  },
  {
   "cell_type": "code",
   "execution_count": 15,
   "metadata": {},
   "outputs": [
    {
     "name": "stdout",
     "output_type": "stream",
     "text": [
      "Epoch 1/50\n",
      "5/5 [==============================] - 2s 278ms/step - loss: 1.3363 - accuracy: 0.4558 - val_loss: 0.6983 - val_accuracy: 0.5946\n",
      "Epoch 2/50\n",
      "5/5 [==============================] - 1s 198ms/step - loss: 0.7779 - accuracy: 0.5850 - val_loss: 0.7233 - val_accuracy: 0.5946\n",
      "Epoch 3/50\n",
      "5/5 [==============================] - 1s 199ms/step - loss: 0.6941 - accuracy: 0.5714 - val_loss: 0.8064 - val_accuracy: 0.5946\n",
      "Epoch 4/50\n",
      "5/5 [==============================] - 1s 198ms/step - loss: 0.7464 - accuracy: 0.5986 - val_loss: 0.8970 - val_accuracy: 0.4054\n",
      "Epoch 5/50\n",
      "5/5 [==============================] - 1s 198ms/step - loss: 0.7880 - accuracy: 0.5238 - val_loss: 0.6985 - val_accuracy: 0.5946\n",
      "Epoch 6/50\n",
      "5/5 [==============================] - 1s 217ms/step - loss: 0.6749 - accuracy: 0.5782 - val_loss: 0.7928 - val_accuracy: 0.5946\n",
      "Epoch 7/50\n",
      "5/5 [==============================] - 1s 200ms/step - loss: 0.8248 - accuracy: 0.5102 - val_loss: 0.6736 - val_accuracy: 0.6486\n",
      "Epoch 8/50\n",
      "5/5 [==============================] - 1s 201ms/step - loss: 0.6478 - accuracy: 0.6735 - val_loss: 0.6461 - val_accuracy: 0.7027\n",
      "Epoch 9/50\n",
      "5/5 [==============================] - 1s 200ms/step - loss: 0.6975 - accuracy: 0.6327 - val_loss: 0.8330 - val_accuracy: 0.4054\n",
      "Epoch 10/50\n",
      "5/5 [==============================] - 1s 200ms/step - loss: 0.7563 - accuracy: 0.5102 - val_loss: 0.7133 - val_accuracy: 0.5946\n",
      "Epoch 11/50\n",
      "5/5 [==============================] - 1s 201ms/step - loss: 0.7726 - accuracy: 0.5646 - val_loss: 0.8342 - val_accuracy: 0.4054\n",
      "Epoch 12/50\n",
      "5/5 [==============================] - 1s 205ms/step - loss: 0.7199 - accuracy: 0.5442 - val_loss: 0.6298 - val_accuracy: 0.6216\n",
      "Epoch 13/50\n",
      "5/5 [==============================] - 1s 201ms/step - loss: 0.6724 - accuracy: 0.6531 - val_loss: 0.7977 - val_accuracy: 0.4054\n",
      "Epoch 14/50\n",
      "5/5 [==============================] - 1s 199ms/step - loss: 0.6537 - accuracy: 0.6054 - val_loss: 0.6721 - val_accuracy: 0.4865\n",
      "Epoch 15/50\n",
      "5/5 [==============================] - 1s 203ms/step - loss: 0.6478 - accuracy: 0.5986 - val_loss: 0.5896 - val_accuracy: 0.7027\n",
      "Epoch 16/50\n",
      "5/5 [==============================] - 1s 215ms/step - loss: 0.6462 - accuracy: 0.6463 - val_loss: 0.6834 - val_accuracy: 0.5405\n",
      "Epoch 17/50\n",
      "5/5 [==============================] - 1s 201ms/step - loss: 0.6317 - accuracy: 0.6122 - val_loss: 0.7493 - val_accuracy: 0.4054\n",
      "Epoch 18/50\n",
      "5/5 [==============================] - 1s 197ms/step - loss: 0.6217 - accuracy: 0.5918 - val_loss: 0.8291 - val_accuracy: 0.5946\n",
      "Epoch 19/50\n",
      "5/5 [==============================] - 1s 197ms/step - loss: 0.6481 - accuracy: 0.6327 - val_loss: 0.7461 - val_accuracy: 0.5946\n",
      "Epoch 20/50\n",
      "5/5 [==============================] - 1s 198ms/step - loss: 0.6783 - accuracy: 0.6190 - val_loss: 0.6097 - val_accuracy: 0.8108\n",
      "Epoch 21/50\n",
      "5/5 [==============================] - 1s 196ms/step - loss: 0.6873 - accuracy: 0.6122 - val_loss: 0.5741 - val_accuracy: 0.7568\n",
      "Epoch 22/50\n",
      "5/5 [==============================] - 1s 203ms/step - loss: 0.6859 - accuracy: 0.5646 - val_loss: 0.7418 - val_accuracy: 0.5946\n",
      "Epoch 23/50\n",
      "5/5 [==============================] - 1s 212ms/step - loss: 0.6058 - accuracy: 0.6259 - val_loss: 0.5792 - val_accuracy: 0.8378\n",
      "Epoch 24/50\n",
      "5/5 [==============================] - 1s 201ms/step - loss: 0.6014 - accuracy: 0.6939 - val_loss: 0.5642 - val_accuracy: 0.7838\n",
      "Epoch 25/50\n",
      "5/5 [==============================] - 1s 209ms/step - loss: 0.5770 - accuracy: 0.7007 - val_loss: 0.7416 - val_accuracy: 0.4054\n",
      "Epoch 26/50\n",
      "5/5 [==============================] - 1s 215ms/step - loss: 0.5892 - accuracy: 0.7415 - val_loss: 0.5773 - val_accuracy: 0.6486\n",
      "Epoch 27/50\n",
      "5/5 [==============================] - 1s 198ms/step - loss: 0.6919 - accuracy: 0.5850 - val_loss: 0.6429 - val_accuracy: 0.6216\n",
      "Epoch 28/50\n",
      "5/5 [==============================] - 1s 200ms/step - loss: 0.6261 - accuracy: 0.6395 - val_loss: 0.5808 - val_accuracy: 0.7568\n",
      "Epoch 29/50\n",
      "5/5 [==============================] - 1s 198ms/step - loss: 0.6455 - accuracy: 0.7007 - val_loss: 0.5673 - val_accuracy: 0.8919\n",
      "Epoch 30/50\n",
      "5/5 [==============================] - 1s 201ms/step - loss: 0.6590 - accuracy: 0.5850 - val_loss: 0.7958 - val_accuracy: 0.6216\n",
      "Epoch 31/50\n",
      "5/5 [==============================] - 1s 218ms/step - loss: 0.5824 - accuracy: 0.7619 - val_loss: 0.5371 - val_accuracy: 0.8108\n",
      "Epoch 32/50\n",
      "5/5 [==============================] - 1s 224ms/step - loss: 0.5961 - accuracy: 0.7075 - val_loss: 0.5376 - val_accuracy: 0.8649\n",
      "Epoch 33/50\n",
      "5/5 [==============================] - 1s 217ms/step - loss: 0.6420 - accuracy: 0.6667 - val_loss: 0.6294 - val_accuracy: 0.5676\n",
      "Epoch 34/50\n",
      "5/5 [==============================] - 1s 204ms/step - loss: 0.5681 - accuracy: 0.7483 - val_loss: 0.5278 - val_accuracy: 0.8649\n",
      "Epoch 35/50\n",
      "5/5 [==============================] - 1s 200ms/step - loss: 0.6401 - accuracy: 0.6395 - val_loss: 0.5548 - val_accuracy: 0.7568\n",
      "Epoch 36/50\n",
      "5/5 [==============================] - 1s 207ms/step - loss: 0.5525 - accuracy: 0.7211 - val_loss: 0.4885 - val_accuracy: 0.8919\n",
      "Epoch 37/50\n",
      "5/5 [==============================] - 1s 199ms/step - loss: 0.5296 - accuracy: 0.7755 - val_loss: 0.5460 - val_accuracy: 0.8649\n",
      "Epoch 38/50\n",
      "5/5 [==============================] - 1s 197ms/step - loss: 0.5840 - accuracy: 0.6599 - val_loss: 0.5257 - val_accuracy: 0.7838\n",
      "Epoch 39/50\n",
      "5/5 [==============================] - 1s 208ms/step - loss: 0.5642 - accuracy: 0.7279 - val_loss: 0.7113 - val_accuracy: 0.5946\n",
      "Epoch 40/50\n",
      "5/5 [==============================] - 1s 216ms/step - loss: 0.6182 - accuracy: 0.6259 - val_loss: 0.7956 - val_accuracy: 0.4054\n",
      "Epoch 41/50\n",
      "5/5 [==============================] - 1s 224ms/step - loss: 0.7319 - accuracy: 0.5782 - val_loss: 0.6883 - val_accuracy: 0.6216\n",
      "Epoch 42/50\n",
      "5/5 [==============================] - 1s 212ms/step - loss: 0.5713 - accuracy: 0.6803 - val_loss: 0.6610 - val_accuracy: 0.6486\n",
      "Epoch 43/50\n",
      "5/5 [==============================] - 1s 214ms/step - loss: 0.5674 - accuracy: 0.6939 - val_loss: 0.6527 - val_accuracy: 0.5946\n",
      "Epoch 44/50\n",
      "5/5 [==============================] - 1s 224ms/step - loss: 0.6880 - accuracy: 0.5714 - val_loss: 0.5184 - val_accuracy: 0.8108\n",
      "Epoch 45/50\n",
      "5/5 [==============================] - 1s 208ms/step - loss: 0.6157 - accuracy: 0.5918 - val_loss: 0.6830 - val_accuracy: 0.5405\n",
      "Epoch 46/50\n",
      "5/5 [==============================] - 1s 204ms/step - loss: 0.5922 - accuracy: 0.6667 - val_loss: 0.4814 - val_accuracy: 0.8378\n",
      "Epoch 47/50\n",
      "5/5 [==============================] - 1s 203ms/step - loss: 0.5027 - accuracy: 0.7619 - val_loss: 0.5084 - val_accuracy: 0.8108\n",
      "Epoch 48/50\n",
      "5/5 [==============================] - 1s 203ms/step - loss: 0.6351 - accuracy: 0.6667 - val_loss: 0.5032 - val_accuracy: 0.8108\n",
      "Epoch 49/50\n",
      "5/5 [==============================] - 1s 201ms/step - loss: 0.5654 - accuracy: 0.7279 - val_loss: 0.5780 - val_accuracy: 0.6757\n",
      "Epoch 50/50\n",
      "5/5 [==============================] - 1s 208ms/step - loss: 0.5191 - accuracy: 0.7075 - val_loss: 0.5837 - val_accuracy: 0.7027\n"
     ]
    }
   ],
   "source": [
    "historyANN=modelANN.fit(x = training_set, validation_data = test_set, epochs = 50)"
   ]
  },
  {
   "cell_type": "markdown",
   "metadata": {},
   "source": [
    "## 5.3 Plot the Accuracy and Loss "
   ]
  },
  {
   "cell_type": "code",
   "execution_count": 20,
   "metadata": {},
   "outputs": [
    {
     "data": {
      "text/plain": [
       "<function matplotlib.pyplot.show(close=None, block=None)>"
      ]
     },
     "execution_count": 20,
     "metadata": {},
     "output_type": "execute_result"
    },
    {
     "data": {
      "image/png": "[encoded data removed]",
      "text/plain": [
       "<Figure size 576x360 with 1 Axes>"
      ]
     },
     "metadata": {
      "needs_background": "light"
     },
     "output_type": "display_data"
    }
   ],
   "source": [
    "Performance=pd.DataFrame(historyANN.history)\n",
    "\n",
    "Performance.plot(figsize=(8,5))\n",
    "plt.grid(True)\n",
    "plt.gca().set_ylim(0,1)\n",
    "plt.show"
   ]
  },
  {
   "cell_type": "markdown",
   "metadata": {},
   "source": [
    "## 5.4 Make a Prediction "
   ]
  },
  {
   "cell_type": "code",
   "execution_count": 5,
   "metadata": {},
   "outputs": [
    {
     "ename": "NameError",
     "evalue": "name 'modelANN' is not defined",
     "output_type": "error",
     "traceback": [
      "\u001b[1;31m---------------------------------------------------------------------------\u001b[0m",
      "\u001b[1;31mNameError\u001b[0m                                 Traceback (most recent call last)",
      "\u001b[1;32m<ipython-input-5-4f8318c711fa>\u001b[0m in \u001b[0;36m<module>\u001b[1;34m\u001b[0m\n\u001b[0;32m      3\u001b[0m \u001b[0mprediction_image\u001b[0m \u001b[1;33m=\u001b[0m \u001b[0mnp\u001b[0m\u001b[1;33m.\u001b[0m\u001b[0mexpand_dims\u001b[0m\u001b[1;33m(\u001b[0m\u001b[0mprediction_image\u001b[0m\u001b[1;33m,\u001b[0m \u001b[0maxis\u001b[0m\u001b[1;33m=\u001b[0m\u001b[1;36m0\u001b[0m\u001b[1;33m)\u001b[0m\u001b[1;33m\u001b[0m\u001b[1;33m\u001b[0m\u001b[0m\n\u001b[0;32m      4\u001b[0m \u001b[1;33m\u001b[0m\u001b[0m\n\u001b[1;32m----> 5\u001b[1;33m \u001b[0mresult\u001b[0m \u001b[1;33m=\u001b[0m \u001b[0mmodelANN\u001b[0m\u001b[1;33m.\u001b[0m\u001b[0mpredict\u001b[0m\u001b[1;33m(\u001b[0m\u001b[0mprediction_image\u001b[0m\u001b[1;33m)\u001b[0m\u001b[1;33m\u001b[0m\u001b[1;33m\u001b[0m\u001b[0m\n\u001b[0m\u001b[0;32m      6\u001b[0m \u001b[1;33m\u001b[0m\u001b[0m\n\u001b[0;32m      7\u001b[0m \u001b[1;32mif\u001b[0m \u001b[0mresult\u001b[0m\u001b[1;33m[\u001b[0m\u001b[1;36m0\u001b[0m\u001b[1;33m]\u001b[0m\u001b[1;33m[\u001b[0m\u001b[1;36m0\u001b[0m\u001b[1;33m]\u001b[0m \u001b[1;33m==\u001b[0m \u001b[1;36m1\u001b[0m\u001b[1;33m:\u001b[0m\u001b[1;33m\u001b[0m\u001b[1;33m\u001b[0m\u001b[0m\n",
      "\u001b[1;31mNameError\u001b[0m: name 'modelANN' is not defined"
     ]
    }
   ],
   "source": [
    "prediction_image = image.load_img('Dataset/Single_Prediction/Triangle_1.jpg', target_size=(64, 64))\n",
    "prediction_image = image.img_to_array(prediction_image)\n",
    "prediction_image = np.expand_dims(prediction_image, axis=0)\n",
    "\n",
    "result = modelANN.predict(prediction_image)\n",
    "\n",
    "if result[0][0] == 1:\n",
    "    prediction = 'Part is OK.'\n",
    "else:\n",
    "    prediction = 'Part is defective!'\n",
    "print(prediction)"
   ]
  },
  {
   "cell_type": "markdown",
   "metadata": {},
   "source": [
    "# 6- SVM Model "
   ]
  },
  {
   "cell_type": "raw",
   "metadata": {},
   "source": [
    "The code for the SVM Model is inspired from the following source:\n",
    "\n",
    "https://medium.com/analytics-vidhya/image-classification-using-machine-learning-support-vector-machine-svm-dc7a0ec92e01"
   ]
  },
  {
   "cell_type": "markdown",
   "metadata": {},
   "source": [
    "## 6.1 Preprocessing "
   ]
  },
  {
   "cell_type": "code",
   "execution_count": 18,
   "metadata": {},
   "outputs": [
    {
     "name": "stdout",
     "output_type": "stream",
     "text": [
      "loading category : Bad Layer\n",
      "loaded train category : Bad Layer successfully\n",
      "loaded test category : Bad Layer successfully\n",
      "loading category : Good Layer\n",
      "loaded train category : Good Layer successfully\n",
      "loaded test category : Good Layer successfully\n"
     ]
    }
   ],
   "source": [
    "Categories=['Bad Layer','Good Layer']\n",
    "\n",
    "flat_data_arr_train=[] #input array train\n",
    "flat_data_arr_test=[] #input array test\n",
    "target_arr_train=[] #output array train\n",
    "target_arr_test=[] #output array test\n",
    "\n",
    "datadirtrain='..\\\\Dataset\\\\Training_Set' #relative path\n",
    "datadirtest='..\\\\Dataset\\\\Test_Set'\n",
    "#datadirtest=r\\\"C:\\\\Users\\\\Utilisateur\\\\Desktop\\\\DTU\\\\3rd semester\\\\MANU 465 AI and Machine Learning\\\\project\\\\Dataset\\\\Test_Set\\\"  #absolute path\n",
    "#paths which contains all the categories of images\\n\",\n",
    "\n",
    "for i in Categories:   \n",
    "    print(f'loading category : {i}')\n",
    "    \n",
    "    pathtrain=os.path.join(datadirtrain, i)\n",
    "\n",
    "    for img in os.listdir(pathtrain):\n",
    "        img_array=imread(os.path.join(pathtrain,img))\n",
    "        img_resized=resize(img_array,(150,150,3))\n",
    "        flat_data_arr_train.append(img_resized.flatten())\n",
    "        target_arr_train.append(Categories.index(i))\n",
    "    print(f'loaded train category : {i} successfully')\n",
    "    \n",
    "    pathtest=os.path.join(datadirtest, i)\n",
    "\n",
    "    for img in os.listdir(pathtest):\n",
    "        img_array=imread(os.path.join(pathtest,img))\n",
    "        img_resized=resize(img_array,(150,150,3))\n",
    "        flat_data_arr_test.append(img_resized.flatten())\n",
    "        target_arr_test.append(Categories.index(i))\n",
    "    print(f'loaded test category : {i} successfully')\n",
    "\n",
    "flat_data_train=np.array(flat_data_arr_train,dtype=object)\n",
    "flat_data_test=np.array(flat_data_arr_test,dtype=object)\n",
    "target_train=np.array(target_arr_train)\n",
    "target_test=np.array(target_arr_test)\n",
    "\n",
    "df_train=pd.DataFrame(flat_data_train)\n",
    "df_test=pd.DataFrame(flat_data_test)\n",
    "\n",
    "df_train['Target']=target_train\n",
    "df_test['Target']=target_test\n",
    "\n",
    "x_train=df_train.iloc[:,:-1] #input train data\n",
    "y_train=df_train.iloc[:,-1] #output train data\n",
    "\n",
    "x_test=df_test.iloc[:,:-1] #input test data\n",
    "y_test=df_test.iloc[:,-1] #output test data"
   ]
  },
  {
   "cell_type": "markdown",
   "metadata": {},
   "source": [
    "## 6.2 Buid the Model "
   ]
  },
  {
   "cell_type": "code",
   "execution_count": 31,
   "metadata": {},
   "outputs": [],
   "source": [
    "param_grid={'C':[0.001, 0.01, 0.1,1,10,100, 1000],'gamma':[0.0001,0.001,0.1,1, 10],'kernel':['rbf','poly']}\n",
    "svc=svm.SVC(probability=True)\n",
    "modelSVM=GridSearchCV(svc,param_grid)"
   ]
  },
  {
   "cell_type": "markdown",
   "metadata": {},
   "source": [
    "## 6.3 Train the SVM Model "
   ]
  },
  {
   "cell_type": "code",
   "execution_count": 32,
   "metadata": {},
   "outputs": [
    {
     "name": "stdout",
     "output_type": "stream",
     "text": [
      "The Model is trained well with the given images\n"
     ]
    }
   ],
   "source": [
    "historySVM=modelSVM.fit(x_train, y_train)\n",
    "print('The Model is trained well with the given images')"
   ]
  },
  {
   "cell_type": "code",
   "execution_count": 33,
   "metadata": {},
   "outputs": [
    {
     "data": {
      "text/plain": [
       "{'C': 0.1, 'gamma': 0.001, 'kernel': 'rbf'}"
      ]
     },
     "execution_count": 33,
     "metadata": {},
     "output_type": "execute_result"
    }
   ],
   "source": [
    "modelSVM.best_params_\n",
    "#model.best_params_ contains the best parameters obtained from GridSearchCV"
   ]
  },
  {
   "cell_type": "markdown",
   "metadata": {},
   "source": [
    "## 6.4 Accuracy and Prediction "
   ]
  },
  {
   "cell_type": "code",
   "execution_count": 34,
   "metadata": {
    "scrolled": true
   },
   "outputs": [
    {
     "name": "stdout",
     "output_type": "stream",
     "text": [
      "The predicted Data is :\n",
      "[1 1 1 1 1 1 1 1 1 1 1 1 1 1 1 1 1 1 1 1 1 1 1 1]\n",
      "The actual data is:\n",
      "[0 0 0 0 0 0 1 1 1 1 1 1 1 1 1 1 1 1 1 1 1 1 1 1]\n",
      "The model is 75.0% accurate\n"
     ]
    }
   ],
   "source": [
    "y_pred=modelSVM.predict(x_test)\n",
    "print(\"The predicted Data is :\")\n",
    "print(y_pred)\n",
    "print(\"The actual data is:\")\n",
    "print(np.array(y_test))\n",
    "print(f\"The model is {accuracy_score(y_pred,y_test)*100}% accurate\")"
   ]
  },
  {
   "cell_type": "markdown",
   "metadata": {},
   "source": [
    "Images of good and bad print layers of 3D printed shapes (cylinder and cubes) were fed into different machine learning models to obtain prediction accuracies. Ultimately, the ANN, SVM and CNN models output a prediction accuracy of 95.24%, 70.75% and 75% respectively. The CNN model, expectedly, performed the best as the model convolves images with the max pool function for data processing. However, this accuracy is quite high compared to the results of similar researches. The size of data collected is small compared to the size of data used in similar researches. If more time is permitted, a more realistic prediction accuracy can be obtained.  The ANN model, unexpectedly, performed the worst out of three models. The suspicion is that the model does not work as well for when multiple shapes are fed as the input. An ANN model was trained with cube image input only, and the model had a prediction accuracy of 89%. Last but not least, the SVM model had a prediction accuracy of 75% with an input of 14 images. This shows that a simpler machine learning model without neural networks can output a decent prediction accuracy. With more input, the model might display a higher accuracy comparable to the CNN model. The recommendation from our team to implement CNN model that has a prediction accuracy of 95.24%."
   ]
  }
 ],
 "metadata": {
  "kernelspec": {
   "display_name": "Python 3",
   "language": "python",
   "name": "python3"
  },
  "language_info": {
   "codemirror_mode": {
    "name": "ipython",
    "version": 3
   },
   "file_extension": ".py",
   "mimetype": "text/x-python",
   "name": "python",
   "nbconvert_exporter": "python",
   "pygments_lexer": "ipython3",
   "version": "3.8.8"
  },
  "toc": {
   "base_numbering": 1,
   "nav_menu": {},
   "number_sections": true,
   "sideBar": true,
   "skip_h1_title": false,
   "title_cell": "Table of Contents",
   "title_sidebar": "Contents",
   "toc_cell": false,
   "toc_position": {},
   "toc_section_display": true,
   "toc_window_display": false
  }
 },
 "nbformat": 4,
 "nbformat_minor": 1
}
