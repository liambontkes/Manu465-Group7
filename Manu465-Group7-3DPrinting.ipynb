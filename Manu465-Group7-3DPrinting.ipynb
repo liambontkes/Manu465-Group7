{
 "cells": [
  {
   "cell_type": "markdown",
   "metadata": {
    "collapsed": true,
    "pycharm": {
     "name": "#%% md\n"
    }
   },
   "source": [
    "# MANU 465 Project: 3D Printing"
   ]
  },
  {
   "cell_type": "markdown",
   "metadata": {
    "pycharm": {
     "name": "#%% md\n"
    }
   },
   "source": [
    "### Authors:\n",
    "\n",
    "_Group 7_\n",
    "\n",
    "Liam Bontkes, 25530163\n",
    "\n",
    "Stacy Shang\n",
    "\n",
    "Theophile Calloc'h\n",
    "\n",
    "Tony Lyu"
   ]
  },
  {
   "cell_type": "markdown",
   "metadata": {
    "pycharm": {
     "name": "#%% md\n"
    }
   },
   "source": [
    "## 1 Project Description\n",
    "\n",
    "The goal of this project is to create a machine learning model which is capable of identifying defective print layers\n",
    "and classifying 3D print layers as Pass/Fail with 85% or greater accuracy. The machine learning model will use a series\n",
    "of images of print layers (defective and non-defective), interpreted with a machine vision model. To reduce the scope\n",
    "of the project, we will only train the model on simple geometric shapes such as cubes, spheres and pyramids.\n",
    "Additionally, we will only be training the model on 3D prints from a fused filament fabrication printer using\n",
    "polylactic acid filament and a 4mm extruder head."
   ]
  },
  {
   "cell_type": "markdown",
   "metadata": {
    "pycharm": {
     "name": "#%% md\n"
    }
   },
   "source": [
    "## 2 Libraries"
   ]
  },
  {
   "cell_type": "code",
   "execution_count": 1,
   "metadata": {
    "pycharm": {
     "name": "#%%\n"
    }
   },
   "outputs": [],
   "source": [
    "import tensorflow as tf\n",
    "import matplotlib.pyplot as plt\n",
    "import numpy as np\n",
    "import pandas as pd"
   ]
  },
  {
   "cell_type": "markdown",
   "metadata": {
    "pycharm": {
     "name": "#%% md\n"
    }
   },
   "source": [
    "## 3 Data Preprocessing\n",
    "\n",
    "Preprocess the training and test set."
   ]
  },
  {
   "cell_type": "code",
   "execution_count": 2,
   "metadata": {
    "pycharm": {
     "name": "#%%\n"
    }
   },
   "outputs": [
    {
     "name": "stdout",
     "output_type": "stream",
     "text": [
      "Found 54 images belonging to 2 classes.\n",
      "Found 15 images belonging to 2 classes.\n"
     ]
    }
   ],
   "source": [
    "from keras.preprocessing.image import ImageDataGenerator\n",
    "\n",
    "image_data_generator = ImageDataGenerator(rescale=1. / 255,\n",
    "                                          shear_range=0.2,\n",
    "                                          zoom_range=0.2,\n",
    "                                          horizontal_flip=True)\n",
    "\n",
    "training_set = image_data_generator.flow_from_directory('Dataset/training_set',\n",
    "                                                        target_size=(64, 64),\n",
    "                                                        batch_size=32,\n",
    "                                                        class_mode='binary')\n",
    "\n",
    "test_set = image_data_generator.flow_from_directory('Dataset/test_set',\n",
    "                                                    target_size=(64, 64),\n",
    "                                                    batch_size=32,\n",
    "                                                    class_mode='binary')"
   ]
  },
  {
   "cell_type": "markdown",
   "metadata": {
    "pycharm": {
     "name": "#%% md\n"
    }
   },
   "source": [
    "## 4 Building the CNN Model"
   ]
  },
  {
   "cell_type": "markdown",
   "metadata": {
    "pycharm": {
     "name": "#%% md\n"
    }
   },
   "source": [
    "### 4.1 Initialize the Model"
   ]
  },
  {
   "cell_type": "code",
   "execution_count": 3,
   "metadata": {
    "pycharm": {
     "name": "#%%\n"
    }
   },
   "outputs": [],
   "source": [
    "model = tf.keras.models.Sequential()"
   ]
  },
  {
   "cell_type": "markdown",
   "metadata": {
    "pycharm": {
     "name": "#%% md\n"
    }
   },
   "source": [
    "### 4.2 Add Convolutional Layers"
   ]
  },
  {
   "cell_type": "code",
   "execution_count": 4,
   "metadata": {
    "pycharm": {
     "name": "#%%\n"
    }
   },
   "outputs": [],
   "source": [
    "# add and pool 1st layer\n",
    "model.add(tf.keras.layers.Conv2D(filters=32, kernel_size=3, activation='relu', input_shape=[64, 64, 3]))\n",
    "model.add(tf.keras.layers.MaxPool2D(pool_size=2, strides=1))"
   ]
  },
  {
   "cell_type": "code",
   "execution_count": 5,
   "metadata": {
    "pycharm": {
     "name": "#%%\n"
    }
   },
   "outputs": [],
   "source": [
    "# add and pool 2nd layer\n",
    "model.add(tf.keras.layers.Conv2D(filters=32, kernel_size=3, activation='relu'))\n",
    "model.add(tf.keras.layers.MaxPool2D(pool_size=2, strides=1))"
   ]
  },
  {
   "cell_type": "markdown",
   "metadata": {},
   "source": [
    "### 4.3 Flatten the Model"
   ]
  },
  {
   "cell_type": "code",
   "execution_count": 6,
   "metadata": {
    "pycharm": {
     "name": "#%%\n"
    }
   },
   "outputs": [],
   "source": [
    "model.add(tf.keras.layers.Flatten())"
   ]
  },
  {
   "cell_type": "markdown",
   "metadata": {},
   "source": [
    "### 4.4 Add Connection Layer"
   ]
  },
  {
   "cell_type": "code",
   "execution_count": 7,
   "metadata": {
    "pycharm": {
     "name": "#%%\n"
    }
   },
   "outputs": [],
   "source": [
    "model.add(tf.keras.layers.Dense(units=256, activation='relu'))"
   ]
  },
  {
   "cell_type": "markdown",
   "metadata": {},
   "source": [
    "### 4.5 Add Output Layer"
   ]
  },
  {
   "cell_type": "code",
   "execution_count": 8,
   "metadata": {
    "pycharm": {
     "name": "#%%\n"
    }
   },
   "outputs": [],
   "source": [
    "model.add(tf.keras.layers.Dense(units=1, activation='sigmoid'))"
   ]
  },
  {
   "cell_type": "markdown",
   "metadata": {},
   "source": [
    "### 4.6 Compile the Model"
   ]
  },
  {
   "cell_type": "code",
   "execution_count": 9,
   "metadata": {
    "pycharm": {
     "name": "#%%\n"
    }
   },
   "outputs": [],
   "source": [
    "model.compile(optimizer='adam', loss='binary_crossentropy', metrics=['accuracy'])"
   ]
  },
  {
   "cell_type": "markdown",
   "metadata": {},
   "source": [
    "## 5 Train the CNN Model"
   ]
  },
  {
   "cell_type": "code",
   "execution_count": 11,
   "metadata": {
    "pycharm": {
     "name": "#%%\n"
    }
   },
   "outputs": [
    {
     "name": "stdout",
     "output_type": "stream",
     "text": [
      "Epoch 1/50\n",
      "2/2 [==============================] - 3s 2s/step - loss: 1.5594e-05 - accuracy: 1.0000 - val_loss: 4.7901e-05 - val_accuracy: 1.0000\n",
      "Epoch 2/50\n",
      "2/2 [==============================] - 2s 1s/step - loss: 2.1591e-05 - accuracy: 1.0000 - val_loss: 5.7178e-05 - val_accuracy: 1.0000\n",
      "Epoch 3/50\n",
      "2/2 [==============================] - 2s 1s/step - loss: 1.4542e-05 - accuracy: 1.0000 - val_loss: 5.6883e-05 - val_accuracy: 1.0000\n",
      "Epoch 4/50\n",
      "2/2 [==============================] - 2s 1s/step - loss: 2.0639e-05 - accuracy: 1.0000 - val_loss: 6.8755e-05 - val_accuracy: 1.0000\n",
      "Epoch 5/50\n",
      "2/2 [==============================] - 2s 1s/step - loss: 6.3048e-05 - accuracy: 1.0000 - val_loss: 6.7247e-05 - val_accuracy: 1.0000\n",
      "Epoch 6/50\n",
      "2/2 [==============================] - 2s 1s/step - loss: 2.6595e-05 - accuracy: 1.0000 - val_loss: 6.6728e-05 - val_accuracy: 1.0000\n",
      "Epoch 7/50\n",
      "2/2 [==============================] - 2s 1s/step - loss: 1.2915e-05 - accuracy: 1.0000 - val_loss: 9.6944e-05 - val_accuracy: 1.0000\n",
      "Epoch 8/50\n",
      "2/2 [==============================] - 2s 1s/step - loss: 1.5471e-05 - accuracy: 1.0000 - val_loss: 6.6072e-05 - val_accuracy: 1.0000\n",
      "Epoch 9/50\n",
      "2/2 [==============================] - 2s 1s/step - loss: 4.0150e-05 - accuracy: 1.0000 - val_loss: 8.2539e-05 - val_accuracy: 1.0000\n",
      "Epoch 10/50\n",
      "2/2 [==============================] - 2s 1s/step - loss: 2.2976e-05 - accuracy: 1.0000 - val_loss: 1.2969e-04 - val_accuracy: 1.0000\n",
      "Epoch 11/50\n",
      "2/2 [==============================] - 2s 1s/step - loss: 1.4741e-05 - accuracy: 1.0000 - val_loss: 1.0503e-04 - val_accuracy: 1.0000\n",
      "Epoch 12/50\n",
      "2/2 [==============================] - 2s 1s/step - loss: 1.6201e-05 - accuracy: 1.0000 - val_loss: 1.1472e-04 - val_accuracy: 1.0000\n",
      "Epoch 13/50\n",
      "2/2 [==============================] - 2s 1s/step - loss: 1.7269e-05 - accuracy: 1.0000 - val_loss: 9.6703e-05 - val_accuracy: 1.0000\n",
      "Epoch 14/50\n",
      "2/2 [==============================] - 2s 1s/step - loss: 3.5571e-05 - accuracy: 1.0000 - val_loss: 9.7177e-05 - val_accuracy: 1.0000\n",
      "Epoch 15/50\n",
      "2/2 [==============================] - 2s 1s/step - loss: 1.4101e-05 - accuracy: 1.0000 - val_loss: 1.5695e-04 - val_accuracy: 1.0000\n",
      "Epoch 16/50\n",
      "2/2 [==============================] - 2s 1s/step - loss: 1.2767e-05 - accuracy: 1.0000 - val_loss: 9.6004e-05 - val_accuracy: 1.0000\n",
      "Epoch 17/50\n",
      "2/2 [==============================] - 2s 1s/step - loss: 9.0633e-06 - accuracy: 1.0000 - val_loss: 8.0280e-05 - val_accuracy: 1.0000\n",
      "Epoch 18/50\n",
      "2/2 [==============================] - 3s 1s/step - loss: 1.1179e-05 - accuracy: 1.0000 - val_loss: 5.0796e-05 - val_accuracy: 1.0000\n",
      "Epoch 19/50\n",
      "2/2 [==============================] - 2s 1s/step - loss: 1.9796e-05 - accuracy: 1.0000 - val_loss: 7.1933e-05 - val_accuracy: 1.0000\n",
      "Epoch 20/50\n",
      "2/2 [==============================] - 2s 1s/step - loss: 1.6760e-05 - accuracy: 1.0000 - val_loss: 4.3576e-05 - val_accuracy: 1.0000\n",
      "Epoch 21/50\n",
      "2/2 [==============================] - 2s 1s/step - loss: 9.6602e-06 - accuracy: 1.0000 - val_loss: 4.0035e-05 - val_accuracy: 1.0000\n",
      "Epoch 22/50\n",
      "2/2 [==============================] - 2s 2s/step - loss: 1.2343e-05 - accuracy: 1.0000 - val_loss: 3.5420e-05 - val_accuracy: 1.0000\n",
      "Epoch 23/50\n",
      "2/2 [==============================] - 2s 1s/step - loss: 9.4992e-06 - accuracy: 1.0000 - val_loss: 5.0447e-05 - val_accuracy: 1.0000\n",
      "Epoch 24/50\n",
      "2/2 [==============================] - 2s 1s/step - loss: 1.0554e-05 - accuracy: 1.0000 - val_loss: 5.4608e-05 - val_accuracy: 1.0000\n",
      "Epoch 25/50\n",
      "2/2 [==============================] - 2s 1s/step - loss: 1.1781e-05 - accuracy: 1.0000 - val_loss: 3.8297e-05 - val_accuracy: 1.0000\n",
      "Epoch 26/50\n",
      "2/2 [==============================] - 2s 1s/step - loss: 7.1057e-06 - accuracy: 1.0000 - val_loss: 3.8585e-05 - val_accuracy: 1.0000\n",
      "Epoch 27/50\n",
      "2/2 [==============================] - 2s 1s/step - loss: 9.2826e-06 - accuracy: 1.0000 - val_loss: 4.0682e-05 - val_accuracy: 1.0000\n",
      "Epoch 28/50\n",
      "2/2 [==============================] - 2s 2s/step - loss: 1.2533e-05 - accuracy: 1.0000 - val_loss: 4.5873e-05 - val_accuracy: 1.0000\n",
      "Epoch 29/50\n",
      "2/2 [==============================] - 2s 2s/step - loss: 9.1670e-06 - accuracy: 1.0000 - val_loss: 3.2859e-05 - val_accuracy: 1.0000\n",
      "Epoch 30/50\n",
      "2/2 [==============================] - 2s 1s/step - loss: 8.9327e-06 - accuracy: 1.0000 - val_loss: 2.6478e-05 - val_accuracy: 1.0000\n",
      "Epoch 31/50\n",
      "2/2 [==============================] - 2s 1s/step - loss: 7.4959e-06 - accuracy: 1.0000 - val_loss: 2.8874e-05 - val_accuracy: 1.0000\n",
      "Epoch 32/50\n",
      "2/2 [==============================] - 2s 1s/step - loss: 8.9929e-06 - accuracy: 1.0000 - val_loss: 3.6910e-05 - val_accuracy: 1.0000\n",
      "Epoch 33/50\n",
      "2/2 [==============================] - 2s 1s/step - loss: 8.6625e-06 - accuracy: 1.0000 - val_loss: 2.7714e-05 - val_accuracy: 1.0000\n",
      "Epoch 34/50\n",
      "2/2 [==============================] - 2s 1s/step - loss: 6.6379e-06 - accuracy: 1.0000 - val_loss: 2.4626e-05 - val_accuracy: 1.0000\n",
      "Epoch 35/50\n",
      "2/2 [==============================] - 2s 1s/step - loss: 1.0185e-05 - accuracy: 1.0000 - val_loss: 2.8734e-05 - val_accuracy: 1.0000\n",
      "Epoch 36/50\n",
      "2/2 [==============================] - 2s 1s/step - loss: 8.5801e-06 - accuracy: 1.0000 - val_loss: 4.9309e-05 - val_accuracy: 1.0000\n",
      "Epoch 37/50\n",
      "2/2 [==============================] - 2s 1s/step - loss: 8.8160e-06 - accuracy: 1.0000 - val_loss: 2.8337e-05 - val_accuracy: 1.0000\n",
      "Epoch 38/50\n",
      "2/2 [==============================] - 2s 1s/step - loss: 4.5114e-06 - accuracy: 1.0000 - val_loss: 6.0395e-05 - val_accuracy: 1.0000\n",
      "Epoch 39/50\n",
      "2/2 [==============================] - 2s 1s/step - loss: 5.9441e-06 - accuracy: 1.0000 - val_loss: 2.9410e-05 - val_accuracy: 1.0000\n",
      "Epoch 40/50\n",
      "2/2 [==============================] - 2s 1s/step - loss: 7.0385e-06 - accuracy: 1.0000 - val_loss: 2.5823e-05 - val_accuracy: 1.0000\n",
      "Epoch 41/50\n",
      "2/2 [==============================] - 2s 1s/step - loss: 7.8642e-06 - accuracy: 1.0000 - val_loss: 4.8091e-05 - val_accuracy: 1.0000\n",
      "Epoch 42/50\n",
      "2/2 [==============================] - 2s 1s/step - loss: 7.2946e-06 - accuracy: 1.0000 - val_loss: 2.6047e-05 - val_accuracy: 1.0000\n",
      "Epoch 43/50\n",
      "2/2 [==============================] - 2s 1s/step - loss: 8.1214e-06 - accuracy: 1.0000 - val_loss: 3.0200e-05 - val_accuracy: 1.0000\n",
      "Epoch 44/50\n",
      "2/2 [==============================] - 2s 1s/step - loss: 8.4452e-06 - accuracy: 1.0000 - val_loss: 2.7686e-05 - val_accuracy: 1.0000\n",
      "Epoch 45/50\n",
      "2/2 [==============================] - 2s 1s/step - loss: 5.1523e-06 - accuracy: 1.0000 - val_loss: 2.5886e-05 - val_accuracy: 1.0000\n",
      "Epoch 46/50\n",
      "2/2 [==============================] - 2s 1s/step - loss: 5.7465e-06 - accuracy: 1.0000 - val_loss: 1.8941e-05 - val_accuracy: 1.0000\n",
      "Epoch 47/50\n",
      "2/2 [==============================] - 2s 1s/step - loss: 5.8345e-06 - accuracy: 1.0000 - val_loss: 2.0567e-05 - val_accuracy: 1.0000\n",
      "Epoch 48/50\n",
      "2/2 [==============================] - 2s 1s/step - loss: 4.9002e-06 - accuracy: 1.0000 - val_loss: 3.0487e-05 - val_accuracy: 1.0000\n",
      "Epoch 49/50\n",
      "2/2 [==============================] - 2s 1s/step - loss: 5.4936e-06 - accuracy: 1.0000 - val_loss: 2.4372e-05 - val_accuracy: 1.0000\n",
      "Epoch 50/50\n",
      "2/2 [==============================] - 2s 1s/step - loss: 6.9247e-06 - accuracy: 1.0000 - val_loss: 1.9716e-05 - val_accuracy: 1.0000\n"
     ]
    },
    {
     "data": {
      "text/plain": [
       "<keras.callbacks.History at 0x2336de60ee0>"
      ]
     },
     "execution_count": 11,
     "metadata": {},
     "output_type": "execute_result"
    }
   ],
   "source": [
    "model.fit(x=training_set, validation_data=test_set, epochs=50)"
   ]
  },
  {
   "cell_type": "markdown",
   "metadata": {
    "pycharm": {
     "name": "#%% md\n"
    }
   },
   "source": [
    "## 6 Make a Prediction"
   ]
  },
  {
   "cell_type": "code",
   "execution_count": 13,
   "metadata": {
    "pycharm": {
     "name": "#%%\n"
    }
   },
   "outputs": [
    {
     "name": "stdout",
     "output_type": "stream",
     "text": [
      "Part is defective!\n"
     ]
    }
   ],
   "source": [
    "from keras.preprocessing import image\n",
    "\n",
    "prediction_image = image.load_img('Dataset/Single_Prediction/Print_1.jpg', target_size=(64, 64))\n",
    "prediction_image = image.img_to_array(prediction_image)\n",
    "prediction_image = np.expand_dims(prediction_image, axis=0)\n",
    "\n",
    "result = model.predict(prediction_image)\n",
    "\n",
    "if result[0][0] == 1:\n",
    "    prediction = 'Part is OK.'\n",
    "else:\n",
    "    prediction = 'Part is defective!'\n",
    "print(prediction)"
   ]
  },
  {
   "cell_type": "code",
   "execution_count": null,
   "metadata": {},
   "outputs": [],
   "source": []
  }
 ],
 "metadata": {
  "kernelspec": {
   "display_name": "Python 3",
   "language": "python",
   "name": "python3"
  },
  "language_info": {
   "codemirror_mode": {
    "name": "ipython",
    "version": 3
   },
   "file_extension": ".py",
   "mimetype": "text/x-python",
   "name": "python",
   "nbconvert_exporter": "python",
   "pygments_lexer": "ipython3",
   "version": "3.8.8"
  },
  "toc": {
   "base_numbering": 1,
   "nav_menu": {},
   "number_sections": true,
   "sideBar": true,
   "skip_h1_title": false,
   "title_cell": "Table of Contents",
   "title_sidebar": "Contents",
   "toc_cell": false,
   "toc_position": {},
   "toc_section_display": true,
   "toc_window_display": false
  }
 },
 "nbformat": 4,
 "nbformat_minor": 1
}
